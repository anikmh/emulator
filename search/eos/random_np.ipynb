{
 "cells": [
  {
   "cell_type": "markdown",
   "id": "f0877499",
   "metadata": {},
   "source": [
    "## Tuning 3P Model with Random Search"
   ]
  },
  {
   "cell_type": "code",
   "execution_count": 4,
   "id": "d96b01d1",
   "metadata": {},
   "outputs": [],
   "source": [
    "import os\n",
    "import numpy as np\n",
    "import matplotlib.pyplot as plt\n",
    "plt.rcParams.update({'font.size': 20})\n",
    "\n",
    "# Keras-related modules\n",
    "import tensorflow as tf\n",
    "from tensorflow import keras\n",
    "from keras import layers\n",
    "import keras_tuner as kt\n",
    "from keras_tuner import HyperModel\n",
    "from sklearn.model_selection import train_test_split"
   ]
  },
  {
   "cell_type": "markdown",
   "id": "1597db04",
   "metadata": {},
   "source": [
    "### 1. Load data from file and prepare to be used for tuning\n",
    "\n",
    "Load the EoS and the $M-R$ curves from processed 3P data files. Next, normalize the data and perform a train-test split as 80-20."
   ]
  },
  {
   "cell_type": "code",
   "execution_count": 2,
   "id": "aed9c5e9",
   "metadata": {},
   "outputs": [
    {
     "name": "stdout",
     "output_type": "stream",
     "text": [
      "dim(Y) = 4842\n",
      "dim(X) = 4842 x 91\n"
     ]
    }
   ],
   "source": [
    "# Load the un-normalized data\n",
    "X = np.loadtxt('../data/pars.txt')\n",
    "Y = np.loadtxt('../data/wgt.txt')\n",
    "\n",
    "# Normalize the data\n",
    "x = (X - np.min(X)) / (np.max(X) - np.min(X))\n",
    "y = (Y - np.min(Y)) / (np.max(Y) - np.min(Y))\n",
    "\n",
    "print(\"dim(Y) =\", y.shape[0])\n",
    "print(\"dim(X) =\", x.shape[0], \"x\", x.shape[1])\n",
    "\n",
    "# Perform train-test split as 80-20\n",
    "x_tr, x_ts, y_tr, y_ts = train_test_split(x, y, test_size=0.2, shuffle=True, random_state=41)"
   ]
  },
  {
   "cell_type": "markdown",
   "id": "4255128a",
   "metadata": {},
   "source": [
    "### 2. Construct the search space\n",
    "\n",
    "We seek to find the values of hyperparameters that optimizes the DNN for performance and accuracy. The choices of hyperparameters include number of layers, number of neurons/units in each layer, the activation functions on the inner layers and the output layer. \n",
    "\n",
    "Even with less number of hyperparameters, the search space can be large and the process may take a while to complete, depending on their ranges we choose. Therefore, to expedite the tuning, we fix some hyperparameters and search over the others."
   ]
  },
  {
   "cell_type": "code",
   "execution_count": 10,
   "id": "43cab2bb",
   "metadata": {},
   "outputs": [],
   "source": [
    "# Define the search space\n",
    "class RegressionHyperModel(HyperModel):\n",
    "    def __init__(self, input_shape):\n",
    "        self.input_shape = input_shape    \n",
    "        \n",
    "    def build(self, hp):\n",
    "        model = keras.Sequential()\n",
    "        # Tune the number of layers (4-6 max)\n",
    "        for i in range(hp.Int('num_layers', 1, 6)):\n",
    "            model.add(\n",
    "                layers.Dense(\n",
    "                    # Tune number of units separately\n",
    "                    units=hp.Int(f\"units_{i}\", min_value=182, max_value=728, step=91),\n",
    "                    activation='relu'\n",
    "                )\n",
    "            )\n",
    "        model.add(layers.Dense(1, activation='linear'))\n",
    "        model.compile(loss='mean_squared_error', optimizer='adam')\n",
    "        return model"
   ]
  },
  {
   "cell_type": "code",
   "execution_count": 11,
   "id": "66869458",
   "metadata": {},
   "outputs": [],
   "source": [
    "# Initialize the input shape\n",
    "input_shape = (x_tr.shape[1],)\n",
    "hypermodel = RegressionHyperModel(input_shape)"
   ]
  },
  {
   "cell_type": "markdown",
   "id": "2eaba9ac",
   "metadata": {},
   "source": [
    "### 3. Initialize search parameters\n",
    "\n",
    "Set values of search parameters and create an early-stopping callback. "
   ]
  },
  {
   "cell_type": "code",
   "execution_count": 12,
   "id": "06b6a1c1",
   "metadata": {},
   "outputs": [
    {
     "name": "stdout",
     "output_type": "stream",
     "text": [
      "Search space summary\n",
      "Default search space size: 2\n",
      "num_layers (Int)\n",
      "{'default': None, 'conditions': [], 'min_value': 1, 'max_value': 6, 'step': 1, 'sampling': 'linear'}\n",
      "units_0 (Int)\n",
      "{'default': None, 'conditions': [], 'min_value': 182, 'max_value': 728, 'step': 91, 'sampling': 'linear'}\n"
     ]
    }
   ],
   "source": [
    "# Initialize the search\n",
    "tuner = kt.RandomSearch(\n",
    "    hypermodel,                # Pass the hypermodel object\n",
    "    objective='val_loss',      # Quantity to monitor during tuning\n",
    "    seed=42,                   # Set reproducibility of randomness\n",
    "    max_trials=100,            # Max number of trials with different hyperparameters \n",
    "                               # 6!=720<1000, 6^4=1296>1000\n",
    "    executions_per_trial=1,    # Number of repeated trials with same hyperparameters\n",
    "    directory=\"random_search\", # Set directory to store search results\n",
    "    project_name=\"np\",         # Set the subdirectory name\n",
    "    overwrite=True             # Choose if previous search results should be ignored\n",
    ")\n",
    "# Set up callback for early stopping \n",
    "stop_early = tf.keras.callbacks.EarlyStopping(monitor='loss', min_delta=1.0e-6, patience=10)\n",
    "\n",
    "# Print the summary of search space\n",
    "tuner.search_space_summary()"
   ]
  },
  {
   "cell_type": "markdown",
   "id": "f09407e0",
   "metadata": {},
   "source": [
    "Now begin tuning the network."
   ]
  },
  {
   "cell_type": "code",
   "execution_count": 13,
   "id": "468fa136",
   "metadata": {},
   "outputs": [
    {
     "name": "stdout",
     "output_type": "stream",
     "text": [
      "Trial 100 Complete [00h 00m 07s]\n",
      "val_loss: 0.013538737781345844\n",
      "\n",
      "Best val_loss So Far: 0.010502735152840614\n",
      "Total elapsed time: 00h 28m 02s\n",
      "INFO:tensorflow:Oracle triggered exit\n"
     ]
    }
   ],
   "source": [
    "tuner.search(x_tr, y_tr, batch_size=64, epochs=1000, validation_data=(x_ts, y_ts), \\\n",
    "                callbacks=[stop_early], verbose=2)"
   ]
  },
  {
   "cell_type": "markdown",
   "id": "98427e32",
   "metadata": {},
   "source": [
    "### 4. Publish search results\n",
    "\n",
    "Print the first few (5-10) top models and then pick the best model by hand."
   ]
  },
  {
   "cell_type": "code",
   "execution_count": 14,
   "id": "87c172e4",
   "metadata": {},
   "outputs": [
    {
     "name": "stdout",
     "output_type": "stream",
     "text": [
      "Results summary\n",
      "Results in random_search/np\n",
      "Showing 10 best trials\n",
      "<keras_tuner.engine.objective.Objective object at 0x7f00c01a5ba0>\n",
      "Trial summary\n",
      "Hyperparameters:\n",
      "num_layers: 1\n",
      "units_0: 364\n",
      "units_1: 182\n",
      "units_2: 273\n",
      "units_3: 182\n",
      "units_4: 364\n",
      "units_5: 728\n",
      "Score: 0.010502735152840614\n",
      "Trial summary\n",
      "Hyperparameters:\n",
      "num_layers: 2\n",
      "units_0: 364\n",
      "units_1: 455\n",
      "units_2: 728\n",
      "units_3: 455\n",
      "units_4: 455\n",
      "units_5: 364\n",
      "Score: 0.010503713972866535\n",
      "Trial summary\n",
      "Hyperparameters:\n",
      "num_layers: 2\n",
      "units_0: 182\n",
      "units_1: 546\n",
      "units_2: 182\n",
      "units_3: 728\n",
      "units_4: 546\n",
      "units_5: 364\n",
      "Score: 0.010597708635032177\n",
      "Trial summary\n",
      "Hyperparameters:\n",
      "num_layers: 5\n",
      "units_0: 364\n",
      "units_1: 728\n",
      "units_2: 728\n",
      "units_3: 182\n",
      "units_4: 728\n",
      "units_5: 455\n",
      "Score: 0.010683621279895306\n",
      "Trial summary\n",
      "Hyperparameters:\n",
      "num_layers: 2\n",
      "units_0: 728\n",
      "units_1: 455\n",
      "units_2: 364\n",
      "units_3: 637\n",
      "units_4: 637\n",
      "units_5: 273\n",
      "Score: 0.010698849335312843\n",
      "Trial summary\n",
      "Hyperparameters:\n",
      "num_layers: 4\n",
      "units_0: 637\n",
      "units_1: 546\n",
      "units_2: 546\n",
      "units_3: 273\n",
      "units_4: 637\n",
      "units_5: 182\n",
      "Score: 0.010709371417760849\n",
      "Trial summary\n",
      "Hyperparameters:\n",
      "num_layers: 1\n",
      "units_0: 364\n",
      "units_1: 546\n",
      "units_2: 182\n",
      "units_3: 273\n",
      "units_4: 364\n",
      "units_5: 637\n",
      "Score: 0.010781829245388508\n",
      "Trial summary\n",
      "Hyperparameters:\n",
      "num_layers: 1\n",
      "units_0: 273\n",
      "units_1: 728\n",
      "units_2: 637\n",
      "units_3: 455\n",
      "units_4: 182\n",
      "units_5: 273\n",
      "Score: 0.010806949809193611\n",
      "Trial summary\n",
      "Hyperparameters:\n",
      "num_layers: 2\n",
      "units_0: 455\n",
      "units_1: 364\n",
      "units_2: 273\n",
      "units_3: 273\n",
      "units_4: 273\n",
      "units_5: 546\n",
      "Score: 0.010807513259351254\n",
      "Trial summary\n",
      "Hyperparameters:\n",
      "num_layers: 2\n",
      "units_0: 728\n",
      "units_1: 546\n",
      "units_2: 273\n",
      "units_3: 364\n",
      "units_4: 728\n",
      "units_5: 364\n",
      "Score: 0.010823799297213554\n"
     ]
    }
   ],
   "source": [
    "tuner.results_summary(num_trials=10)"
   ]
  },
  {
   "cell_type": "code",
   "execution_count": 15,
   "id": "4dbbcb22",
   "metadata": {},
   "outputs": [
    {
     "name": "stdout",
     "output_type": "stream",
     "text": [
      "Model: \"sequential\"\n",
      "_________________________________________________________________\n",
      " Layer (type)                Output Shape              Param #   \n",
      "=================================================================\n",
      " dense (Dense)               (None, 364)               33488     \n",
      "                                                                 \n",
      " dense_1 (Dense)             (None, 1)                 365       \n",
      "                                                                 \n",
      "=================================================================\n",
      "Total params: 33,853\n",
      "Trainable params: 33,853\n",
      "Non-trainable params: 0\n",
      "_________________________________________________________________\n"
     ]
    }
   ],
   "source": [
    "# Get the top model\n",
    "models = tuner.get_best_models(num_models=10)\n",
    "best_model = models[0]\n",
    "\n",
    "# Build the best model\n",
    "best_model.build(input_shape=(None, 91))\n",
    "\n",
    "# Show the best model\n",
    "best_model.summary()"
   ]
  },
  {
   "cell_type": "markdown",
   "id": "18e3e554",
   "metadata": {},
   "source": [
    "Evaluate the best model and note the order of magnitude of the loss function for reference."
   ]
  },
  {
   "cell_type": "code",
   "execution_count": 16,
   "id": "5b855088",
   "metadata": {},
   "outputs": [
    {
     "name": "stdout",
     "output_type": "stream",
     "text": [
      "Loss = 1.0503e-02\n"
     ]
    }
   ],
   "source": [
    "loss = best_model.evaluate(x_ts, y_ts, verbose=0)\n",
    "print(\"Loss = {:.4e}\".format(loss))"
   ]
  },
  {
   "cell_type": "markdown",
   "id": "ddb50e6a",
   "metadata": {},
   "source": [
    "### 5. Save the best model to file\n",
    "\n",
    "Tuning a network is computationally expensive. Besides, the results are not reproducible because of the stochastic nature of this mechanism. Therefore, we tune a network only once for a given data set and do not repeat it unless either the input shape or the data set itself has changed.\n",
    "\n",
    "Write the best model to file so that it can be loaded directly without repeating the search."
   ]
  },
  {
   "cell_type": "code",
   "execution_count": 17,
   "id": "783cdc03",
   "metadata": {},
   "outputs": [],
   "source": [
    "best_model.save(\"../output/model_np.h5\")"
   ]
  },
  {
   "cell_type": "code",
   "execution_count": null,
   "id": "2d92b167-c4ef-4e2d-b73d-f38b5e39b06e",
   "metadata": {},
   "outputs": [],
   "source": []
  }
 ],
 "metadata": {
  "kernelspec": {
   "display_name": "tfg",
   "language": "python",
   "name": "python3"
  },
  "language_info": {
   "codemirror_mode": {
    "name": "ipython",
    "version": 3
   },
   "file_extension": ".py",
   "mimetype": "text/x-python",
   "name": "python",
   "nbconvert_exporter": "python",
   "pygments_lexer": "ipython3",
   "version": "3.12.7"
  },
  "vscode": {
   "interpreter": {
    "hash": "a6a4b0eb735ed2cd6b4b25f1438c283aa2992850b5c5f4f4d6aa702dfcfbf0c3"
   }
  }
 },
 "nbformat": 4,
 "nbformat_minor": 5
}
