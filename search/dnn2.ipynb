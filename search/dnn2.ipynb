{
 "cells": [
  {
   "cell_type": "code",
   "execution_count": 1,
   "metadata": {},
   "outputs": [
    {
     "name": "stderr",
     "output_type": "stream",
     "text": [
      "2024-11-14 13:38:05.429640: E external/local_xla/xla/stream_executor/cuda/cuda_fft.cc:485] Unable to register cuFFT factory: Attempting to register factory for plugin cuFFT when one has already been registered\n",
      "2024-11-14 13:38:05.438833: E external/local_xla/xla/stream_executor/cuda/cuda_dnn.cc:8454] Unable to register cuDNN factory: Attempting to register factory for plugin cuDNN when one has already been registered\n",
      "2024-11-14 13:38:05.441601: E external/local_xla/xla/stream_executor/cuda/cuda_blas.cc:1452] Unable to register cuBLAS factory: Attempting to register factory for plugin cuBLAS when one has already been registered\n"
     ]
    }
   ],
   "source": [
    "import os\n",
    "import shutil\n",
    "import numpy as np\n",
    "import h5py\n",
    "import matplotlib.pyplot as plt\n",
    "plt.rc('font', size=12.0)\n",
    "\n",
    "import tensorflow as tf\n",
    "from keras import layers\n",
    "import keras_tuner as kt\n",
    "from sklearn.model_selection import train_test_split\n",
    "from sklearn.preprocessing import MinMaxScaler"
   ]
  },
  {
   "cell_type": "code",
   "execution_count": 2,
   "metadata": {},
   "outputs": [],
   "source": [
    "model = ['nl']\n",
    "label = ['NL']\n",
    "x_names = ['a', 'alpha', 'param_S', 'param_L', '', 'trans1', '', 'trans2', '']\n",
    "for k in range(len(model)):\n",
    "    if model[k] == 'mp' or model[k] == 'np':\n",
    "        x_names[4], x_names[6], x_names[8] = 'exp1', 'exp2', 'exp3'\n",
    "    else:\n",
    "        x_names[4], x_names[6], x_names[8] = 'csq1', 'csq2', 'csq3'\n",
    "\n",
    "dir = '/home/anik/bamr/out/aff_inv/'\n",
    "mchain = h5py.File(dir + 'nl_all', 'r')['markov_chain_0']\n",
    "\n",
    "x_ncols = len(x_names)\n",
    "nrows, data = mchain['nlines'][0], mchain['data']\n",
    "X = np.zeros((x_ncols, nrows))\n",
    "\n",
    "for i in range(x_ncols):\n",
    "    X[i] = data[x_names[i]]\n",
    "Y = np.array(data['M_max']).reshape(-1, 1)\n",
    "\n",
    "X = X.T\n",
    "\n",
    "scaler_X = MinMaxScaler(feature_range=(0, 1))\n",
    "scaler_Y = MinMaxScaler(feature_range=(0, 1))\n",
    "\n",
    "x = scaler_X.fit_transform(X)\n",
    "y = scaler_Y.fit_transform(Y)\n",
    "\n",
    "x_tr, x_ts, y_tr, y_ts = train_test_split(x, y, test_size=0.2, random_state=42)\n",
    "x_ts, x_vl, y_ts, y_vl = train_test_split(x_ts, y_ts, test_size=0.01, random_state=42)"
   ]
  },
  {
   "cell_type": "code",
   "execution_count": 3,
   "metadata": {},
   "outputs": [
    {
     "name": "stdout",
     "output_type": "stream",
     "text": [
      "Memory growth enabled for the first GPU.\n"
     ]
    },
    {
     "name": "stderr",
     "output_type": "stream",
     "text": [
      "WARNING: All log messages before absl::InitializeLog() is called are written to STDERR\n",
      "I0000 00:00:1731609487.369378 3384170 cuda_executor.cc:1015] successful NUMA node read from SysFS had negative value (-1), but there must be at least one NUMA node, so returning NUMA node zero. See more at https://github.com/torvalds/linux/blob/v6.0/Documentation/ABI/testing/sysfs-bus-pci#L344-L355\n",
      "I0000 00:00:1731609487.441254 3384170 cuda_executor.cc:1015] successful NUMA node read from SysFS had negative value (-1), but there must be at least one NUMA node, so returning NUMA node zero. See more at https://github.com/torvalds/linux/blob/v6.0/Documentation/ABI/testing/sysfs-bus-pci#L344-L355\n",
      "I0000 00:00:1731609487.442473 3384170 cuda_executor.cc:1015] successful NUMA node read from SysFS had negative value (-1), but there must be at least one NUMA node, so returning NUMA node zero. See more at https://github.com/torvalds/linux/blob/v6.0/Documentation/ABI/testing/sysfs-bus-pci#L344-L355\n"
     ]
    }
   ],
   "source": [
    "tuner_dir = 'trials2'\n",
    "\n",
    "if os.path.exists(tuner_dir):\n",
    "    shutil.rmtree(tuner_dir)\n",
    "\n",
    "gpus = tf.config.experimental.list_physical_devices('GPU')\n",
    "if gpus:\n",
    "    try:\n",
    "        tf.config.experimental.set_memory_growth(gpus[0], True)\n",
    "        print(\"Memory growth enabled for the first GPU.\")\n",
    "    except RuntimeError as e:\n",
    "        print(f\"Could not enable memory growth: {e}\")\n",
    "else:\n",
    "    print(\"No GPUs found.\")"
   ]
  },
  {
   "cell_type": "code",
   "execution_count": 4,
   "metadata": {},
   "outputs": [
    {
     "name": "stderr",
     "output_type": "stream",
     "text": [
      "I0000 00:00:1731609487.453467 3384170 cuda_executor.cc:1015] successful NUMA node read from SysFS had negative value (-1), but there must be at least one NUMA node, so returning NUMA node zero. See more at https://github.com/torvalds/linux/blob/v6.0/Documentation/ABI/testing/sysfs-bus-pci#L344-L355\n",
      "I0000 00:00:1731609487.455241 3384170 cuda_executor.cc:1015] successful NUMA node read from SysFS had negative value (-1), but there must be at least one NUMA node, so returning NUMA node zero. See more at https://github.com/torvalds/linux/blob/v6.0/Documentation/ABI/testing/sysfs-bus-pci#L344-L355\n",
      "I0000 00:00:1731609487.456481 3384170 cuda_executor.cc:1015] successful NUMA node read from SysFS had negative value (-1), but there must be at least one NUMA node, so returning NUMA node zero. See more at https://github.com/torvalds/linux/blob/v6.0/Documentation/ABI/testing/sysfs-bus-pci#L344-L355\n",
      "I0000 00:00:1731609487.564712 3384170 cuda_executor.cc:1015] successful NUMA node read from SysFS had negative value (-1), but there must be at least one NUMA node, so returning NUMA node zero. See more at https://github.com/torvalds/linux/blob/v6.0/Documentation/ABI/testing/sysfs-bus-pci#L344-L355\n",
      "I0000 00:00:1731609487.565925 3384170 cuda_executor.cc:1015] successful NUMA node read from SysFS had negative value (-1), but there must be at least one NUMA node, so returning NUMA node zero. See more at https://github.com/torvalds/linux/blob/v6.0/Documentation/ABI/testing/sysfs-bus-pci#L344-L355\n",
      "I0000 00:00:1731609487.567018 3384170 cuda_executor.cc:1015] successful NUMA node read from SysFS had negative value (-1), but there must be at least one NUMA node, so returning NUMA node zero. See more at https://github.com/torvalds/linux/blob/v6.0/Documentation/ABI/testing/sysfs-bus-pci#L344-L355\n"
     ]
    },
    {
     "name": "stdout",
     "output_type": "stream",
     "text": [
      "Search space summary\n",
      "Default search space size: 3\n",
      "num_layers (Int)\n",
      "{'default': None, 'conditions': [], 'min_value': 2, 'max_value': 3, 'step': 1, 'sampling': 'linear'}\n",
      "units_0 (Choice)\n",
      "{'default': 8, 'conditions': [], 'values': [8, 16, 32, 48, 64], 'ordered': True}\n",
      "units_1 (Choice)\n",
      "{'default': 8, 'conditions': [], 'values': [8, 16, 32, 48, 64], 'ordered': True}\n"
     ]
    }
   ],
   "source": [
    "def build_model(hp):\n",
    "\n",
    "    model = tf.keras.Sequential()\n",
    "    model.add(layers.Input(shape=(9,)))\n",
    "    \n",
    "    for i in range(hp.Int('num_layers', 2, 3)):\n",
    "        units = hp.Choice(f'units_{i}', [8, 16, 32, 48, 64])\n",
    "        model.add(layers.Dense(units=units, activation='relu'))\n",
    "    \n",
    "    model.add(layers.Dense(units=1, activation='sigmoid'))\n",
    "    \n",
    "    model.compile(\n",
    "        optimizer='adam',\n",
    "        loss='mse',\n",
    "        metrics=['mse']\n",
    "    )\n",
    "    \n",
    "    return model\n",
    "\n",
    "tuner = kt.RandomSearch(\n",
    "    build_model,\n",
    "    objective='val_loss',\n",
    "    max_trials=1000,\n",
    "    executions_per_trial=1,\n",
    "    directory='trials2',\n",
    ")\n",
    "\n",
    "tuner.search_space_summary()"
   ]
  },
  {
   "cell_type": "code",
   "execution_count": 5,
   "metadata": {},
   "outputs": [
    {
     "name": "stdout",
     "output_type": "stream",
     "text": [
      "Trial 212 Complete [00h 00m 13s]\n",
      "val_loss: 0.0013294899836182594\n",
      "\n",
      "Best val_loss So Far: 0.00011330779670970514\n",
      "Total elapsed time: 00h 44m 59s\n"
     ]
    }
   ],
   "source": [
    "early_stop = tf.keras.callbacks.EarlyStopping(\n",
    "    monitor='val_loss',\n",
    "    restore_best_weights=True,\n",
    "    patience=10\n",
    ")\n",
    "\n",
    "lr_schedule = tf.keras.callbacks.ReduceLROnPlateau(\n",
    "    monitor='val_loss', \n",
    "    factor=0.1, \n",
    "    patience=5\n",
    ")\n",
    "\n",
    "tuner.search(\n",
    "    x_tr, y_tr,\n",
    "    validation_data=(x_ts, y_ts),\n",
    "    epochs=100,\n",
    "    batch_size=128,\n",
    "    callbacks=[early_stop]\n",
    ")"
   ]
  },
  {
   "cell_type": "code",
   "execution_count": 6,
   "metadata": {},
   "outputs": [
    {
     "name": "stdout",
     "output_type": "stream",
     "text": [
      "Results summary\n",
      "Results in trials2/untitled_project\n",
      "Showing 10 best trials\n",
      "Objective(name=\"val_loss\", direction=\"min\")\n",
      "\n",
      "Trial 0130 summary\n",
      "Hyperparameters:\n",
      "num_layers: 3\n",
      "units_0: 48\n",
      "units_1: 64\n",
      "units_2: 64\n",
      "Score: 0.00011330779670970514\n",
      "\n",
      "Trial 0013 summary\n",
      "Hyperparameters:\n",
      "num_layers: 3\n",
      "units_0: 64\n",
      "units_1: 64\n",
      "units_2: 48\n",
      "Score: 0.0001194178475998342\n",
      "\n",
      "Trial 0205 summary\n",
      "Hyperparameters:\n",
      "num_layers: 3\n",
      "units_0: 48\n",
      "units_1: 48\n",
      "units_2: 64\n",
      "Score: 0.00012411274656187743\n",
      "\n",
      "Trial 0070 summary\n",
      "Hyperparameters:\n",
      "num_layers: 3\n",
      "units_0: 64\n",
      "units_1: 64\n",
      "units_2: 64\n",
      "Score: 0.00013791819219477475\n",
      "\n",
      "Trial 0078 summary\n",
      "Hyperparameters:\n",
      "num_layers: 3\n",
      "units_0: 32\n",
      "units_1: 64\n",
      "units_2: 64\n",
      "Score: 0.00013826611393596977\n",
      "\n",
      "Trial 0056 summary\n",
      "Hyperparameters:\n",
      "num_layers: 3\n",
      "units_0: 64\n",
      "units_1: 64\n",
      "units_2: 32\n",
      "Score: 0.00014138581173028797\n",
      "\n",
      "Trial 0090 summary\n",
      "Hyperparameters:\n",
      "num_layers: 3\n",
      "units_0: 32\n",
      "units_1: 64\n",
      "units_2: 32\n",
      "Score: 0.00014448574802372605\n",
      "\n",
      "Trial 0080 summary\n",
      "Hyperparameters:\n",
      "num_layers: 2\n",
      "units_0: 64\n",
      "units_1: 64\n",
      "units_2: 16\n",
      "Score: 0.00015328088193200529\n",
      "\n",
      "Trial 0000 summary\n",
      "Hyperparameters:\n",
      "num_layers: 3\n",
      "units_0: 48\n",
      "units_1: 48\n",
      "units_2: 8\n",
      "Score: 0.0001591401087353006\n",
      "\n",
      "Trial 0180 summary\n",
      "Hyperparameters:\n",
      "num_layers: 3\n",
      "units_0: 32\n",
      "units_1: 48\n",
      "units_2: 32\n",
      "Score: 0.0001613592467037961\n"
     ]
    }
   ],
   "source": [
    "tuner.results_summary(num_trials=10)"
   ]
  },
  {
   "cell_type": "code",
   "execution_count": 7,
   "metadata": {},
   "outputs": [
    {
     "data": {
      "text/html": [
       "<pre style=\"white-space:pre;overflow-x:auto;line-height:normal;font-family:Menlo,'DejaVu Sans Mono',consolas,'Courier New',monospace\"><span style=\"font-weight: bold\">Model: \"sequential_1\"</span>\n",
       "</pre>\n"
      ],
      "text/plain": [
       "\u001b[1mModel: \"sequential_1\"\u001b[0m\n"
      ]
     },
     "metadata": {},
     "output_type": "display_data"
    },
    {
     "data": {
      "text/html": [
       "<pre style=\"white-space:pre;overflow-x:auto;line-height:normal;font-family:Menlo,'DejaVu Sans Mono',consolas,'Courier New',monospace\">┏━━━━━━━━━━━━━━━━━━━━━━━━━━━━━━━━━┳━━━━━━━━━━━━━━━━━━━━━━━━┳━━━━━━━━━━━━━━━┓\n",
       "┃<span style=\"font-weight: bold\"> Layer (type)                    </span>┃<span style=\"font-weight: bold\"> Output Shape           </span>┃<span style=\"font-weight: bold\">       Param # </span>┃\n",
       "┡━━━━━━━━━━━━━━━━━━━━━━━━━━━━━━━━━╇━━━━━━━━━━━━━━━━━━━━━━━━╇━━━━━━━━━━━━━━━┩\n",
       "│ dense_3 (<span style=\"color: #0087ff; text-decoration-color: #0087ff\">Dense</span>)                 │ (<span style=\"color: #00d7ff; text-decoration-color: #00d7ff\">None</span>, <span style=\"color: #00af00; text-decoration-color: #00af00\">48</span>)             │           <span style=\"color: #00af00; text-decoration-color: #00af00\">480</span> │\n",
       "├─────────────────────────────────┼────────────────────────┼───────────────┤\n",
       "│ dense_4 (<span style=\"color: #0087ff; text-decoration-color: #0087ff\">Dense</span>)                 │ (<span style=\"color: #00d7ff; text-decoration-color: #00d7ff\">None</span>, <span style=\"color: #00af00; text-decoration-color: #00af00\">64</span>)             │         <span style=\"color: #00af00; text-decoration-color: #00af00\">3,136</span> │\n",
       "├─────────────────────────────────┼────────────────────────┼───────────────┤\n",
       "│ dense_5 (<span style=\"color: #0087ff; text-decoration-color: #0087ff\">Dense</span>)                 │ (<span style=\"color: #00d7ff; text-decoration-color: #00d7ff\">None</span>, <span style=\"color: #00af00; text-decoration-color: #00af00\">64</span>)             │         <span style=\"color: #00af00; text-decoration-color: #00af00\">4,160</span> │\n",
       "├─────────────────────────────────┼────────────────────────┼───────────────┤\n",
       "│ dense_6 (<span style=\"color: #0087ff; text-decoration-color: #0087ff\">Dense</span>)                 │ (<span style=\"color: #00d7ff; text-decoration-color: #00d7ff\">None</span>, <span style=\"color: #00af00; text-decoration-color: #00af00\">1</span>)              │            <span style=\"color: #00af00; text-decoration-color: #00af00\">65</span> │\n",
       "└─────────────────────────────────┴────────────────────────┴───────────────┘\n",
       "</pre>\n"
      ],
      "text/plain": [
       "┏━━━━━━━━━━━━━━━━━━━━━━━━━━━━━━━━━┳━━━━━━━━━━━━━━━━━━━━━━━━┳━━━━━━━━━━━━━━━┓\n",
       "┃\u001b[1m \u001b[0m\u001b[1mLayer (type)                   \u001b[0m\u001b[1m \u001b[0m┃\u001b[1m \u001b[0m\u001b[1mOutput Shape          \u001b[0m\u001b[1m \u001b[0m┃\u001b[1m \u001b[0m\u001b[1m      Param #\u001b[0m\u001b[1m \u001b[0m┃\n",
       "┡━━━━━━━━━━━━━━━━━━━━━━━━━━━━━━━━━╇━━━━━━━━━━━━━━━━━━━━━━━━╇━━━━━━━━━━━━━━━┩\n",
       "│ dense_3 (\u001b[38;5;33mDense\u001b[0m)                 │ (\u001b[38;5;45mNone\u001b[0m, \u001b[38;5;34m48\u001b[0m)             │           \u001b[38;5;34m480\u001b[0m │\n",
       "├─────────────────────────────────┼────────────────────────┼───────────────┤\n",
       "│ dense_4 (\u001b[38;5;33mDense\u001b[0m)                 │ (\u001b[38;5;45mNone\u001b[0m, \u001b[38;5;34m64\u001b[0m)             │         \u001b[38;5;34m3,136\u001b[0m │\n",
       "├─────────────────────────────────┼────────────────────────┼───────────────┤\n",
       "│ dense_5 (\u001b[38;5;33mDense\u001b[0m)                 │ (\u001b[38;5;45mNone\u001b[0m, \u001b[38;5;34m64\u001b[0m)             │         \u001b[38;5;34m4,160\u001b[0m │\n",
       "├─────────────────────────────────┼────────────────────────┼───────────────┤\n",
       "│ dense_6 (\u001b[38;5;33mDense\u001b[0m)                 │ (\u001b[38;5;45mNone\u001b[0m, \u001b[38;5;34m1\u001b[0m)              │            \u001b[38;5;34m65\u001b[0m │\n",
       "└─────────────────────────────────┴────────────────────────┴───────────────┘\n"
      ]
     },
     "metadata": {},
     "output_type": "display_data"
    },
    {
     "data": {
      "text/html": [
       "<pre style=\"white-space:pre;overflow-x:auto;line-height:normal;font-family:Menlo,'DejaVu Sans Mono',consolas,'Courier New',monospace\"><span style=\"font-weight: bold\"> Total params: </span><span style=\"color: #00af00; text-decoration-color: #00af00\">7,841</span> (30.63 KB)\n",
       "</pre>\n"
      ],
      "text/plain": [
       "\u001b[1m Total params: \u001b[0m\u001b[38;5;34m7,841\u001b[0m (30.63 KB)\n"
      ]
     },
     "metadata": {},
     "output_type": "display_data"
    },
    {
     "data": {
      "text/html": [
       "<pre style=\"white-space:pre;overflow-x:auto;line-height:normal;font-family:Menlo,'DejaVu Sans Mono',consolas,'Courier New',monospace\"><span style=\"font-weight: bold\"> Trainable params: </span><span style=\"color: #00af00; text-decoration-color: #00af00\">7,841</span> (30.63 KB)\n",
       "</pre>\n"
      ],
      "text/plain": [
       "\u001b[1m Trainable params: \u001b[0m\u001b[38;5;34m7,841\u001b[0m (30.63 KB)\n"
      ]
     },
     "metadata": {},
     "output_type": "display_data"
    },
    {
     "data": {
      "text/html": [
       "<pre style=\"white-space:pre;overflow-x:auto;line-height:normal;font-family:Menlo,'DejaVu Sans Mono',consolas,'Courier New',monospace\"><span style=\"font-weight: bold\"> Non-trainable params: </span><span style=\"color: #00af00; text-decoration-color: #00af00\">0</span> (0.00 B)\n",
       "</pre>\n"
      ],
      "text/plain": [
       "\u001b[1m Non-trainable params: \u001b[0m\u001b[38;5;34m0\u001b[0m (0.00 B)\n"
      ]
     },
     "metadata": {},
     "output_type": "display_data"
    }
   ],
   "source": [
    "# Retrieve the best model and evaluate\n",
    "best_hps = tuner.get_best_hyperparameters(num_trials=1)[0]\n",
    "best_model = tuner.hypermodel.build(best_hps)\n",
    "best_model.summary()"
   ]
  },
  {
   "cell_type": "code",
   "execution_count": 8,
   "metadata": {},
   "outputs": [
    {
     "name": "stdout",
     "output_type": "stream",
     "text": [
      "Epoch 1/1000\n",
      "\u001b[1m67/67\u001b[0m \u001b[32m━━━━━━━━━━━━━━━━━━━━\u001b[0m\u001b[37m\u001b[0m \u001b[1m2s\u001b[0m 13ms/step - loss: 0.0459 - mse: 0.0459 - val_loss: 0.0141 - val_mse: 0.0141 - learning_rate: 0.0010\n",
      "Epoch 2/1000\n",
      "\u001b[1m67/67\u001b[0m \u001b[32m━━━━━━━━━━━━━━━━━━━━\u001b[0m\u001b[37m\u001b[0m \u001b[1m0s\u001b[0m 1ms/step - loss: 0.0121 - mse: 0.0121 - val_loss: 0.0095 - val_mse: 0.0095 - learning_rate: 0.0010\n",
      "Epoch 3/1000\n",
      "\u001b[1m67/67\u001b[0m \u001b[32m━━━━━━━━━━━━━━━━━━━━\u001b[0m\u001b[37m\u001b[0m \u001b[1m0s\u001b[0m 1ms/step - loss: 0.0089 - mse: 0.0089 - val_loss: 0.0068 - val_mse: 0.0068 - learning_rate: 0.0010\n",
      "Epoch 4/1000\n",
      "\u001b[1m67/67\u001b[0m \u001b[32m━━━━━━━━━━━━━━━━━━━━\u001b[0m\u001b[37m\u001b[0m \u001b[1m0s\u001b[0m 1ms/step - loss: 0.0061 - mse: 0.0061 - val_loss: 0.0043 - val_mse: 0.0043 - learning_rate: 0.0010\n",
      "Epoch 5/1000\n",
      "\u001b[1m67/67\u001b[0m \u001b[32m━━━━━━━━━━━━━━━━━━━━\u001b[0m\u001b[37m\u001b[0m \u001b[1m0s\u001b[0m 1ms/step - loss: 0.0036 - mse: 0.0036 - val_loss: 0.0028 - val_mse: 0.0028 - learning_rate: 0.0010\n",
      "Epoch 6/1000\n",
      "\u001b[1m67/67\u001b[0m \u001b[32m━━━━━━━━━━━━━━━━━━━━\u001b[0m\u001b[37m\u001b[0m \u001b[1m0s\u001b[0m 1ms/step - loss: 0.0023 - mse: 0.0023 - val_loss: 0.0021 - val_mse: 0.0021 - learning_rate: 0.0010\n",
      "Epoch 7/1000\n",
      "\u001b[1m67/67\u001b[0m \u001b[32m━━━━━━━━━━━━━━━━━━━━\u001b[0m\u001b[37m\u001b[0m \u001b[1m0s\u001b[0m 1ms/step - loss: 0.0018 - mse: 0.0018 - val_loss: 0.0017 - val_mse: 0.0017 - learning_rate: 0.0010\n",
      "Epoch 8/1000\n",
      "\u001b[1m67/67\u001b[0m \u001b[32m━━━━━━━━━━━━━━━━━━━━\u001b[0m\u001b[37m\u001b[0m \u001b[1m0s\u001b[0m 1ms/step - loss: 0.0014 - mse: 0.0014 - val_loss: 0.0014 - val_mse: 0.0014 - learning_rate: 0.0010\n",
      "Epoch 9/1000\n",
      "\u001b[1m67/67\u001b[0m \u001b[32m━━━━━━━━━━━━━━━━━━━━\u001b[0m\u001b[37m\u001b[0m \u001b[1m0s\u001b[0m 1ms/step - loss: 0.0013 - mse: 0.0013 - val_loss: 0.0012 - val_mse: 0.0012 - learning_rate: 0.0010\n",
      "Epoch 10/1000\n",
      "\u001b[1m67/67\u001b[0m \u001b[32m━━━━━━━━━━━━━━━━━━━━\u001b[0m\u001b[37m\u001b[0m \u001b[1m0s\u001b[0m 1ms/step - loss: 0.0011 - mse: 0.0011 - val_loss: 0.0011 - val_mse: 0.0011 - learning_rate: 0.0010\n",
      "Epoch 11/1000\n",
      "\u001b[1m67/67\u001b[0m \u001b[32m━━━━━━━━━━━━━━━━━━━━\u001b[0m\u001b[37m\u001b[0m \u001b[1m0s\u001b[0m 994us/step - loss: 0.0010 - mse: 0.0010 - val_loss: 0.0010 - val_mse: 0.0010 - learning_rate: 0.0010\n",
      "Epoch 12/1000\n",
      "\u001b[1m67/67\u001b[0m \u001b[32m━━━━━━━━━━━━━━━━━━━━\u001b[0m\u001b[37m\u001b[0m \u001b[1m0s\u001b[0m 1ms/step - loss: 9.9510e-04 - mse: 9.9510e-04 - val_loss: 9.4930e-04 - val_mse: 9.4930e-04 - learning_rate: 0.0010\n",
      "Epoch 13/1000\n",
      "\u001b[1m67/67\u001b[0m \u001b[32m━━━━━━━━━━━━━━━━━━━━\u001b[0m\u001b[37m\u001b[0m \u001b[1m0s\u001b[0m 1ms/step - loss: 8.7940e-04 - mse: 8.7940e-04 - val_loss: 8.6972e-04 - val_mse: 8.6972e-04 - learning_rate: 0.0010\n",
      "Epoch 14/1000\n",
      "\u001b[1m67/67\u001b[0m \u001b[32m━━━━━━━━━━━━━━━━━━━━\u001b[0m\u001b[37m\u001b[0m \u001b[1m0s\u001b[0m 1ms/step - loss: 7.7839e-04 - mse: 7.7839e-04 - val_loss: 7.8926e-04 - val_mse: 7.8926e-04 - learning_rate: 0.0010\n",
      "Epoch 15/1000\n",
      "\u001b[1m67/67\u001b[0m \u001b[32m━━━━━━━━━━━━━━━━━━━━\u001b[0m\u001b[37m\u001b[0m \u001b[1m0s\u001b[0m 1ms/step - loss: 7.4623e-04 - mse: 7.4623e-04 - val_loss: 8.5039e-04 - val_mse: 8.5039e-04 - learning_rate: 0.0010\n",
      "Epoch 16/1000\n",
      "\u001b[1m67/67\u001b[0m \u001b[32m━━━━━━━━━━━━━━━━━━━━\u001b[0m\u001b[37m\u001b[0m \u001b[1m0s\u001b[0m 1ms/step - loss: 7.0820e-04 - mse: 7.0820e-04 - val_loss: 7.0988e-04 - val_mse: 7.0988e-04 - learning_rate: 0.0010\n",
      "Epoch 17/1000\n",
      "\u001b[1m67/67\u001b[0m \u001b[32m━━━━━━━━━━━━━━━━━━━━\u001b[0m\u001b[37m\u001b[0m \u001b[1m0s\u001b[0m 1ms/step - loss: 6.3957e-04 - mse: 6.3957e-04 - val_loss: 7.2450e-04 - val_mse: 7.2450e-04 - learning_rate: 0.0010\n",
      "Epoch 18/1000\n",
      "\u001b[1m67/67\u001b[0m \u001b[32m━━━━━━━━━━━━━━━━━━━━\u001b[0m\u001b[37m\u001b[0m \u001b[1m0s\u001b[0m 1ms/step - loss: 6.1659e-04 - mse: 6.1659e-04 - val_loss: 7.1739e-04 - val_mse: 7.1739e-04 - learning_rate: 0.0010\n",
      "Epoch 19/1000\n",
      "\u001b[1m67/67\u001b[0m \u001b[32m━━━━━━━━━━━━━━━━━━━━\u001b[0m\u001b[37m\u001b[0m \u001b[1m0s\u001b[0m 1ms/step - loss: 5.8242e-04 - mse: 5.8242e-04 - val_loss: 6.2420e-04 - val_mse: 6.2420e-04 - learning_rate: 0.0010\n",
      "Epoch 20/1000\n",
      "\u001b[1m67/67\u001b[0m \u001b[32m━━━━━━━━━━━━━━━━━━━━\u001b[0m\u001b[37m\u001b[0m \u001b[1m0s\u001b[0m 1ms/step - loss: 5.6847e-04 - mse: 5.6847e-04 - val_loss: 6.0441e-04 - val_mse: 6.0441e-04 - learning_rate: 0.0010\n",
      "Epoch 21/1000\n",
      "\u001b[1m67/67\u001b[0m \u001b[32m━━━━━━━━━━━━━━━━━━━━\u001b[0m\u001b[37m\u001b[0m \u001b[1m0s\u001b[0m 1ms/step - loss: 5.7891e-04 - mse: 5.7891e-04 - val_loss: 5.3961e-04 - val_mse: 5.3961e-04 - learning_rate: 0.0010\n",
      "Epoch 22/1000\n",
      "\u001b[1m67/67\u001b[0m \u001b[32m━━━━━━━━━━━━━━━━━━━━\u001b[0m\u001b[37m\u001b[0m \u001b[1m0s\u001b[0m 1ms/step - loss: 5.0466e-04 - mse: 5.0466e-04 - val_loss: 6.3832e-04 - val_mse: 6.3832e-04 - learning_rate: 0.0010\n",
      "Epoch 23/1000\n",
      "\u001b[1m67/67\u001b[0m \u001b[32m━━━━━━━━━━━━━━━━━━━━\u001b[0m\u001b[37m\u001b[0m \u001b[1m0s\u001b[0m 1ms/step - loss: 5.2923e-04 - mse: 5.2923e-04 - val_loss: 5.2923e-04 - val_mse: 5.2923e-04 - learning_rate: 0.0010\n",
      "Epoch 24/1000\n",
      "\u001b[1m67/67\u001b[0m \u001b[32m━━━━━━━━━━━━━━━━━━━━\u001b[0m\u001b[37m\u001b[0m \u001b[1m0s\u001b[0m 1ms/step - loss: 4.4021e-04 - mse: 4.4021e-04 - val_loss: 4.8265e-04 - val_mse: 4.8265e-04 - learning_rate: 0.0010\n",
      "Epoch 25/1000\n",
      "\u001b[1m67/67\u001b[0m \u001b[32m━━━━━━━━━━━━━━━━━━━━\u001b[0m\u001b[37m\u001b[0m \u001b[1m0s\u001b[0m 1ms/step - loss: 4.5127e-04 - mse: 4.5127e-04 - val_loss: 4.9375e-04 - val_mse: 4.9375e-04 - learning_rate: 0.0010\n",
      "Epoch 26/1000\n",
      "\u001b[1m67/67\u001b[0m \u001b[32m━━━━━━━━━━━━━━━━━━━━\u001b[0m\u001b[37m\u001b[0m \u001b[1m0s\u001b[0m 1ms/step - loss: 4.3455e-04 - mse: 4.3455e-04 - val_loss: 4.4981e-04 - val_mse: 4.4981e-04 - learning_rate: 0.0010\n",
      "Epoch 27/1000\n",
      "\u001b[1m67/67\u001b[0m \u001b[32m━━━━━━━━━━━━━━━━━━━━\u001b[0m\u001b[37m\u001b[0m \u001b[1m0s\u001b[0m 1ms/step - loss: 4.0029e-04 - mse: 4.0029e-04 - val_loss: 4.4184e-04 - val_mse: 4.4184e-04 - learning_rate: 0.0010\n",
      "Epoch 28/1000\n",
      "\u001b[1m67/67\u001b[0m \u001b[32m━━━━━━━━━━━━━━━━━━━━\u001b[0m\u001b[37m\u001b[0m \u001b[1m0s\u001b[0m 1ms/step - loss: 3.8682e-04 - mse: 3.8682e-04 - val_loss: 4.6964e-04 - val_mse: 4.6964e-04 - learning_rate: 0.0010\n",
      "Epoch 29/1000\n",
      "\u001b[1m67/67\u001b[0m \u001b[32m━━━━━━━━━━━━━━━━━━━━\u001b[0m\u001b[37m\u001b[0m \u001b[1m0s\u001b[0m 1ms/step - loss: 3.8961e-04 - mse: 3.8961e-04 - val_loss: 3.8291e-04 - val_mse: 3.8291e-04 - learning_rate: 0.0010\n",
      "Epoch 30/1000\n",
      "\u001b[1m67/67\u001b[0m \u001b[32m━━━━━━━━━━━━━━━━━━━━\u001b[0m\u001b[37m\u001b[0m \u001b[1m0s\u001b[0m 1ms/step - loss: 3.3173e-04 - mse: 3.3173e-04 - val_loss: 3.8314e-04 - val_mse: 3.8314e-04 - learning_rate: 5.0000e-04\n",
      "Epoch 31/1000\n",
      "\u001b[1m67/67\u001b[0m \u001b[32m━━━━━━━━━━━━━━━━━━━━\u001b[0m\u001b[37m\u001b[0m \u001b[1m0s\u001b[0m 1ms/step - loss: 3.2815e-04 - mse: 3.2815e-04 - val_loss: 3.7154e-04 - val_mse: 3.7154e-04 - learning_rate: 5.0000e-04\n",
      "Epoch 32/1000\n",
      "\u001b[1m67/67\u001b[0m \u001b[32m━━━━━━━━━━━━━━━━━━━━\u001b[0m\u001b[37m\u001b[0m \u001b[1m0s\u001b[0m 1ms/step - loss: 3.4342e-04 - mse: 3.4342e-04 - val_loss: 3.9874e-04 - val_mse: 3.9874e-04 - learning_rate: 5.0000e-04\n",
      "Epoch 33/1000\n",
      "\u001b[1m67/67\u001b[0m \u001b[32m━━━━━━━━━━━━━━━━━━━━\u001b[0m\u001b[37m\u001b[0m \u001b[1m0s\u001b[0m 980us/step - loss: 3.1553e-04 - mse: 3.1553e-04 - val_loss: 3.5565e-04 - val_mse: 3.5565e-04 - learning_rate: 5.0000e-04\n",
      "Epoch 34/1000\n",
      "\u001b[1m67/67\u001b[0m \u001b[32m━━━━━━━━━━━━━━━━━━━━\u001b[0m\u001b[37m\u001b[0m \u001b[1m0s\u001b[0m 1ms/step - loss: 3.0821e-04 - mse: 3.0821e-04 - val_loss: 3.6588e-04 - val_mse: 3.6588e-04 - learning_rate: 5.0000e-04\n",
      "Epoch 35/1000\n",
      "\u001b[1m67/67\u001b[0m \u001b[32m━━━━━━━━━━━━━━━━━━━━\u001b[0m\u001b[37m\u001b[0m \u001b[1m0s\u001b[0m 1ms/step - loss: 3.2447e-04 - mse: 3.2447e-04 - val_loss: 3.4274e-04 - val_mse: 3.4274e-04 - learning_rate: 5.0000e-04\n",
      "Epoch 36/1000\n",
      "\u001b[1m67/67\u001b[0m \u001b[32m━━━━━━━━━━━━━━━━━━━━\u001b[0m\u001b[37m\u001b[0m \u001b[1m0s\u001b[0m 1ms/step - loss: 3.0201e-04 - mse: 3.0201e-04 - val_loss: 3.6034e-04 - val_mse: 3.6034e-04 - learning_rate: 5.0000e-04\n",
      "Epoch 37/1000\n",
      "\u001b[1m67/67\u001b[0m \u001b[32m━━━━━━━━━━━━━━━━━━━━\u001b[0m\u001b[37m\u001b[0m \u001b[1m0s\u001b[0m 1ms/step - loss: 2.8637e-04 - mse: 2.8637e-04 - val_loss: 3.4060e-04 - val_mse: 3.4060e-04 - learning_rate: 2.5000e-04\n",
      "Epoch 38/1000\n",
      "\u001b[1m67/67\u001b[0m \u001b[32m━━━━━━━━━━━━━━━━━━━━\u001b[0m\u001b[37m\u001b[0m \u001b[1m0s\u001b[0m 1ms/step - loss: 2.7743e-04 - mse: 2.7743e-04 - val_loss: 3.2725e-04 - val_mse: 3.2725e-04 - learning_rate: 2.5000e-04\n",
      "Epoch 39/1000\n",
      "\u001b[1m67/67\u001b[0m \u001b[32m━━━━━━━━━━━━━━━━━━━━\u001b[0m\u001b[37m\u001b[0m \u001b[1m0s\u001b[0m 1ms/step - loss: 2.7970e-04 - mse: 2.7970e-04 - val_loss: 3.2681e-04 - val_mse: 3.2681e-04 - learning_rate: 2.5000e-04\n",
      "Epoch 40/1000\n",
      "\u001b[1m67/67\u001b[0m \u001b[32m━━━━━━━━━━━━━━━━━━━━\u001b[0m\u001b[37m\u001b[0m \u001b[1m0s\u001b[0m 1ms/step - loss: 2.7949e-04 - mse: 2.7949e-04 - val_loss: 3.2112e-04 - val_mse: 3.2112e-04 - learning_rate: 2.5000e-04\n",
      "Epoch 41/1000\n",
      "\u001b[1m67/67\u001b[0m \u001b[32m━━━━━━━━━━━━━━━━━━━━\u001b[0m\u001b[37m\u001b[0m \u001b[1m0s\u001b[0m 1ms/step - loss: 2.8251e-04 - mse: 2.8251e-04 - val_loss: 3.2948e-04 - val_mse: 3.2948e-04 - learning_rate: 2.5000e-04\n",
      "Epoch 42/1000\n",
      "\u001b[1m67/67\u001b[0m \u001b[32m━━━━━━━━━━━━━━━━━━━━\u001b[0m\u001b[37m\u001b[0m \u001b[1m0s\u001b[0m 1ms/step - loss: 2.7301e-04 - mse: 2.7301e-04 - val_loss: 3.1427e-04 - val_mse: 3.1427e-04 - learning_rate: 1.2500e-04\n",
      "Epoch 43/1000\n",
      "\u001b[1m67/67\u001b[0m \u001b[32m━━━━━━━━━━━━━━━━━━━━\u001b[0m\u001b[37m\u001b[0m \u001b[1m0s\u001b[0m 954us/step - loss: 2.5916e-04 - mse: 2.5916e-04 - val_loss: 3.1696e-04 - val_mse: 3.1696e-04 - learning_rate: 1.2500e-04\n",
      "Epoch 44/1000\n",
      "\u001b[1m67/67\u001b[0m \u001b[32m━━━━━━━━━━━━━━━━━━━━\u001b[0m\u001b[37m\u001b[0m \u001b[1m0s\u001b[0m 911us/step - loss: 2.7515e-04 - mse: 2.7515e-04 - val_loss: 3.1143e-04 - val_mse: 3.1143e-04 - learning_rate: 1.2500e-04\n",
      "Epoch 45/1000\n",
      "\u001b[1m67/67\u001b[0m \u001b[32m━━━━━━━━━━━━━━━━━━━━\u001b[0m\u001b[37m\u001b[0m \u001b[1m0s\u001b[0m 1ms/step - loss: 2.5758e-04 - mse: 2.5758e-04 - val_loss: 3.1023e-04 - val_mse: 3.1023e-04 - learning_rate: 1.2500e-04\n",
      "Epoch 46/1000\n",
      "\u001b[1m67/67\u001b[0m \u001b[32m━━━━━━━━━━━━━━━━━━━━\u001b[0m\u001b[37m\u001b[0m \u001b[1m0s\u001b[0m 996us/step - loss: 2.6522e-04 - mse: 2.6522e-04 - val_loss: 3.1186e-04 - val_mse: 3.1186e-04 - learning_rate: 1.2500e-04\n",
      "Epoch 47/1000\n",
      "\u001b[1m67/67\u001b[0m \u001b[32m━━━━━━━━━━━━━━━━━━━━\u001b[0m\u001b[37m\u001b[0m \u001b[1m0s\u001b[0m 1ms/step - loss: 2.5977e-04 - mse: 2.5977e-04 - val_loss: 3.0893e-04 - val_mse: 3.0893e-04 - learning_rate: 6.2500e-05\n",
      "Epoch 48/1000\n",
      "\u001b[1m67/67\u001b[0m \u001b[32m━━━━━━━━━━━━━━━━━━━━\u001b[0m\u001b[37m\u001b[0m \u001b[1m0s\u001b[0m 1ms/step - loss: 2.6459e-04 - mse: 2.6459e-04 - val_loss: 3.1099e-04 - val_mse: 3.1099e-04 - learning_rate: 6.2500e-05\n",
      "Epoch 49/1000\n",
      "\u001b[1m67/67\u001b[0m \u001b[32m━━━━━━━━━━━━━━━━━━━━\u001b[0m\u001b[37m\u001b[0m \u001b[1m0s\u001b[0m 1ms/step - loss: 2.6286e-04 - mse: 2.6286e-04 - val_loss: 3.0840e-04 - val_mse: 3.0840e-04 - learning_rate: 6.2500e-05\n",
      "Epoch 50/1000\n",
      "\u001b[1m67/67\u001b[0m \u001b[32m━━━━━━━━━━━━━━━━━━━━\u001b[0m\u001b[37m\u001b[0m \u001b[1m0s\u001b[0m 1ms/step - loss: 2.6631e-04 - mse: 2.6631e-04 - val_loss: 3.0533e-04 - val_mse: 3.0533e-04 - learning_rate: 6.2500e-05\n",
      "Epoch 51/1000\n",
      "\u001b[1m67/67\u001b[0m \u001b[32m━━━━━━━━━━━━━━━━━━━━\u001b[0m\u001b[37m\u001b[0m \u001b[1m0s\u001b[0m 959us/step - loss: 2.4564e-04 - mse: 2.4564e-04 - val_loss: 3.0519e-04 - val_mse: 3.0519e-04 - learning_rate: 6.2500e-05\n",
      "Epoch 52/1000\n",
      "\u001b[1m67/67\u001b[0m \u001b[32m━━━━━━━━━━━━━━━━━━━━\u001b[0m\u001b[37m\u001b[0m \u001b[1m0s\u001b[0m 967us/step - loss: 2.8761e-04 - mse: 2.8761e-04 - val_loss: 3.0410e-04 - val_mse: 3.0410e-04 - learning_rate: 3.1250e-05\n",
      "Epoch 53/1000\n",
      "\u001b[1m67/67\u001b[0m \u001b[32m━━━━━━━━━━━━━━━━━━━━\u001b[0m\u001b[37m\u001b[0m \u001b[1m0s\u001b[0m 955us/step - loss: 2.5290e-04 - mse: 2.5290e-04 - val_loss: 3.0582e-04 - val_mse: 3.0582e-04 - learning_rate: 3.1250e-05\n",
      "Epoch 54/1000\n",
      "\u001b[1m67/67\u001b[0m \u001b[32m━━━━━━━━━━━━━━━━━━━━\u001b[0m\u001b[37m\u001b[0m \u001b[1m0s\u001b[0m 948us/step - loss: 2.6052e-04 - mse: 2.6052e-04 - val_loss: 3.0419e-04 - val_mse: 3.0419e-04 - learning_rate: 3.1250e-05\n",
      "Epoch 55/1000\n",
      "\u001b[1m67/67\u001b[0m \u001b[32m━━━━━━━━━━━━━━━━━━━━\u001b[0m\u001b[37m\u001b[0m \u001b[1m0s\u001b[0m 961us/step - loss: 2.5830e-04 - mse: 2.5830e-04 - val_loss: 3.0381e-04 - val_mse: 3.0381e-04 - learning_rate: 3.1250e-05\n",
      "Epoch 56/1000\n",
      "\u001b[1m67/67\u001b[0m \u001b[32m━━━━━━━━━━━━━━━━━━━━\u001b[0m\u001b[37m\u001b[0m \u001b[1m0s\u001b[0m 961us/step - loss: 2.5339e-04 - mse: 2.5339e-04 - val_loss: 3.0407e-04 - val_mse: 3.0407e-04 - learning_rate: 3.1250e-05\n",
      "Epoch 57/1000\n",
      "\u001b[1m67/67\u001b[0m \u001b[32m━━━━━━━━━━━━━━━━━━━━\u001b[0m\u001b[37m\u001b[0m \u001b[1m0s\u001b[0m 1ms/step - loss: 2.4443e-04 - mse: 2.4443e-04 - val_loss: 3.0307e-04 - val_mse: 3.0307e-04 - learning_rate: 1.5625e-05\n",
      "Epoch 58/1000\n",
      "\u001b[1m67/67\u001b[0m \u001b[32m━━━━━━━━━━━━━━━━━━━━\u001b[0m\u001b[37m\u001b[0m \u001b[1m0s\u001b[0m 1ms/step - loss: 2.5110e-04 - mse: 2.5110e-04 - val_loss: 3.0204e-04 - val_mse: 3.0204e-04 - learning_rate: 1.5625e-05\n",
      "Epoch 59/1000\n",
      "\u001b[1m67/67\u001b[0m \u001b[32m━━━━━━━━━━━━━━━━━━━━\u001b[0m\u001b[37m\u001b[0m \u001b[1m0s\u001b[0m 927us/step - loss: 2.5360e-04 - mse: 2.5360e-04 - val_loss: 3.0144e-04 - val_mse: 3.0144e-04 - learning_rate: 1.5625e-05\n",
      "Epoch 60/1000\n",
      "\u001b[1m67/67\u001b[0m \u001b[32m━━━━━━━━━━━━━━━━━━━━\u001b[0m\u001b[37m\u001b[0m \u001b[1m0s\u001b[0m 1ms/step - loss: 2.5044e-04 - mse: 2.5044e-04 - val_loss: 3.0112e-04 - val_mse: 3.0112e-04 - learning_rate: 1.5625e-05\n",
      "Epoch 61/1000\n",
      "\u001b[1m67/67\u001b[0m \u001b[32m━━━━━━━━━━━━━━━━━━━━\u001b[0m\u001b[37m\u001b[0m \u001b[1m0s\u001b[0m 955us/step - loss: 2.3992e-04 - mse: 2.3992e-04 - val_loss: 3.0133e-04 - val_mse: 3.0133e-04 - learning_rate: 1.5625e-05\n",
      "Epoch 62/1000\n",
      "\u001b[1m67/67\u001b[0m \u001b[32m━━━━━━━━━━━━━━━━━━━━\u001b[0m\u001b[37m\u001b[0m \u001b[1m0s\u001b[0m 946us/step - loss: 2.7028e-04 - mse: 2.7028e-04 - val_loss: 3.0088e-04 - val_mse: 3.0088e-04 - learning_rate: 7.8125e-06\n",
      "Epoch 63/1000\n",
      "\u001b[1m67/67\u001b[0m \u001b[32m━━━━━━━━━━━━━━━━━━━━\u001b[0m\u001b[37m\u001b[0m \u001b[1m0s\u001b[0m 1ms/step - loss: 2.4403e-04 - mse: 2.4403e-04 - val_loss: 3.0059e-04 - val_mse: 3.0059e-04 - learning_rate: 7.8125e-06\n",
      "Epoch 64/1000\n",
      "\u001b[1m67/67\u001b[0m \u001b[32m━━━━━━━━━━━━━━━━━━━━\u001b[0m\u001b[37m\u001b[0m \u001b[1m0s\u001b[0m 957us/step - loss: 2.4944e-04 - mse: 2.4944e-04 - val_loss: 3.0088e-04 - val_mse: 3.0088e-04 - learning_rate: 7.8125e-06\n",
      "Epoch 65/1000\n",
      "\u001b[1m67/67\u001b[0m \u001b[32m━━━━━━━━━━━━━━━━━━━━\u001b[0m\u001b[37m\u001b[0m \u001b[1m0s\u001b[0m 948us/step - loss: 2.5695e-04 - mse: 2.5695e-04 - val_loss: 3.0058e-04 - val_mse: 3.0058e-04 - learning_rate: 7.8125e-06\n",
      "Epoch 66/1000\n",
      "\u001b[1m67/67\u001b[0m \u001b[32m━━━━━━━━━━━━━━━━━━━━\u001b[0m\u001b[37m\u001b[0m \u001b[1m0s\u001b[0m 979us/step - loss: 2.6284e-04 - mse: 2.6284e-04 - val_loss: 3.0085e-04 - val_mse: 3.0085e-04 - learning_rate: 7.8125e-06\n",
      "Epoch 67/1000\n",
      "\u001b[1m67/67\u001b[0m \u001b[32m━━━━━━━━━━━━━━━━━━━━\u001b[0m\u001b[37m\u001b[0m \u001b[1m0s\u001b[0m 948us/step - loss: 2.4806e-04 - mse: 2.4806e-04 - val_loss: 3.0081e-04 - val_mse: 3.0081e-04 - learning_rate: 3.9063e-06\n",
      "Epoch 68/1000\n",
      "\u001b[1m67/67\u001b[0m \u001b[32m━━━━━━━━━━━━━━━━━━━━\u001b[0m\u001b[37m\u001b[0m \u001b[1m0s\u001b[0m 1ms/step - loss: 2.6394e-04 - mse: 2.6394e-04 - val_loss: 3.0018e-04 - val_mse: 3.0018e-04 - learning_rate: 3.9063e-06\n",
      "Epoch 69/1000\n",
      "\u001b[1m67/67\u001b[0m \u001b[32m━━━━━━━━━━━━━━━━━━━━\u001b[0m\u001b[37m\u001b[0m \u001b[1m0s\u001b[0m 1ms/step - loss: 2.5238e-04 - mse: 2.5238e-04 - val_loss: 3.0046e-04 - val_mse: 3.0046e-04 - learning_rate: 3.9063e-06\n",
      "Epoch 70/1000\n",
      "\u001b[1m67/67\u001b[0m \u001b[32m━━━━━━━━━━━━━━━━━━━━\u001b[0m\u001b[37m\u001b[0m \u001b[1m0s\u001b[0m 1ms/step - loss: 2.5148e-04 - mse: 2.5148e-04 - val_loss: 3.0003e-04 - val_mse: 3.0003e-04 - learning_rate: 3.9063e-06\n",
      "Epoch 71/1000\n",
      "\u001b[1m67/67\u001b[0m \u001b[32m━━━━━━━━━━━━━━━━━━━━\u001b[0m\u001b[37m\u001b[0m \u001b[1m0s\u001b[0m 1ms/step - loss: 2.4058e-04 - mse: 2.4058e-04 - val_loss: 3.0028e-04 - val_mse: 3.0028e-04 - learning_rate: 3.9063e-06\n",
      "Epoch 72/1000\n",
      "\u001b[1m67/67\u001b[0m \u001b[32m━━━━━━━━━━━━━━━━━━━━\u001b[0m\u001b[37m\u001b[0m \u001b[1m0s\u001b[0m 1ms/step - loss: 2.5361e-04 - mse: 2.5361e-04 - val_loss: 3.0005e-04 - val_mse: 3.0005e-04 - learning_rate: 1.9531e-06\n"
     ]
    }
   ],
   "source": [
    "early_stop = tf.keras.callbacks.EarlyStopping(\n",
    "    monitor='val_loss', \n",
    "    min_delta=1.0e-6, \n",
    "    patience=10\n",
    ")\n",
    "\n",
    "lr_schedule = tf.keras.callbacks.ReduceLROnPlateau(\n",
    "    monitor='val_loss', \n",
    "    factor=0.5, \n",
    "    patience=5, \n",
    "    min_lr=1e-6\n",
    ")\n",
    "\n",
    "# Optionally, retrain on the full dataset with optimal hyperparameters\n",
    "training = best_model.fit(x_tr, y_tr, epochs=1000, validation_data=(x_ts, y_ts), \\\n",
    "                          batch_size=128, callbacks=[early_stop, lr_schedule])"
   ]
  },
  {
   "cell_type": "code",
   "execution_count": 9,
   "metadata": {},
   "outputs": [
    {
     "data": {
      "image/png": "[encoded data removed]",
      "text/plain": [
       "<Figure size 640x480 with 1 Axes>"
      ]
     },
     "metadata": {},
     "output_type": "display_data"
    }
   ],
   "source": [
    "plt.semilogy(training.history['loss'], ls='--', color='red', label='train')\n",
    "plt.semilogy(training.history['val_loss'], color='orange', label='test')\n",
    "plt.grid()\n",
    "plt.ylabel(\"Loss\")\n",
    "plt.xlabel(\"Epoch\")\n",
    "plt.title(\"Training History\")\n",
    "plt.legend()\n",
    "plt.show()"
   ]
  },
  {
   "cell_type": "code",
   "execution_count": 10,
   "metadata": {},
   "outputs": [
    {
     "name": "stdout",
     "output_type": "stream",
     "text": [
      "\u001b[1m1/1\u001b[0m \u001b[32m━━━━━━━━━━━━━━━━━━━━\u001b[0m\u001b[37m\u001b[0m \u001b[1m0s\u001b[0m 460ms/step\n"
     ]
    },
    {
     "data": {
      "image/png": "[encoded data removed]",
      "text/plain": [
       "<Figure size 640x480 with 1 Axes>"
      ]
     },
     "metadata": {},
     "output_type": "display_data"
    }
   ],
   "source": [
    "y_pr = best_model.predict(x_vl)\n",
    "Y_pr = scaler_Y.inverse_transform(y_pr).flatten()\n",
    "Y_vl = scaler_Y.inverse_transform(y_vl).flatten()\n",
    "plt.plot(Y_vl, c='green', label='data', ls='--')\n",
    "plt.plot(Y_pr, c='red', label='pred')\n",
    "plt.legend()\n",
    "plt.show()"
   ]
  },
  {
   "cell_type": "code",
   "execution_count": null,
   "metadata": {},
   "outputs": [],
   "source": []
  }
 ],
 "metadata": {
  "kernelspec": {
   "display_name": "tfg",
   "language": "python",
   "name": "python3"
  },
  "language_info": {
   "codemirror_mode": {
    "name": "ipython",
    "version": 3
   },
   "file_extension": ".py",
   "mimetype": "text/x-python",
   "name": "python",
   "nbconvert_exporter": "python",
   "pygments_lexer": "ipython3",
   "version": "3.12.7"
  }
 },
 "nbformat": 4,
 "nbformat_minor": 2
}
