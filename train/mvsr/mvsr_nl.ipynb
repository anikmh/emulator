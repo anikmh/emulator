{
 "cells": [
  {
   "cell_type": "code",
   "execution_count": 1,
   "metadata": {},
   "outputs": [
    {
     "name": "stderr",
     "output_type": "stream",
     "text": [
      "2024-10-29 18:36:17.313906: E external/local_xla/xla/stream_executor/cuda/cuda_fft.cc:485] Unable to register cuFFT factory: Attempting to register factory for plugin cuFFT when one has already been registered\n",
      "2024-10-29 18:36:17.344799: E external/local_xla/xla/stream_executor/cuda/cuda_dnn.cc:8454] Unable to register cuDNN factory: Attempting to register factory for plugin cuDNN when one has already been registered\n",
      "2024-10-29 18:36:17.354355: E external/local_xla/xla/stream_executor/cuda/cuda_blas.cc:1452] Unable to register cuBLAS factory: Attempting to register factory for plugin cuBLAS when one has already been registered\n",
      "2024-10-29 18:36:17.377695: I tensorflow/core/platform/cpu_feature_guard.cc:210] This TensorFlow binary is optimized to use available CPU instructions in performance-critical operations.\n",
      "To enable the following instructions: SSE4.1 SSE4.2 AVX AVX2 FMA, in other operations, rebuild TensorFlow with the appropriate compiler flags.\n"
     ]
    }
   ],
   "source": [
    "import os\n",
    "import shutil\n",
    "import numpy as np\n",
    "import h5py\n",
    "import matplotlib.pyplot as plt\n",
    "plt.rc('font', size=12.0)\n",
    "\n",
    "import tensorflow as tf\n",
    "from keras import layers, mixed_precision, regularizers\n",
    "import keras_tuner as kt\n",
    "from sklearn.model_selection import train_test_split\n",
    "from sklearn.preprocessing import MinMaxScaler"
   ]
  },
  {
   "cell_type": "code",
   "execution_count": 2,
   "metadata": {},
   "outputs": [],
   "source": [
    "model = ['nl']\n",
    "label = ['NL']\n",
    "x_names = ['a', 'alpha', 'param_S', 'param_L', '', 'trans1', '', 'trans2', '']\n",
    "for k in range(len(model)):\n",
    "    if model[k] == 'mp' or model[k] == 'np':\n",
    "        x_names[4], x_names[6], x_names[8] = 'exp1', 'exp2', 'exp3'\n",
    "    else:\n",
    "        x_names[4], x_names[6], x_names[8] = 'csq1', 'csq2', 'csq3'\n",
    "y_names = [f\"R_{i}\" for i in range(100)]\n",
    "\n",
    "dir = '/home/anik/bamr/out/aff_inv/'\n",
    "mchain = h5py.File(dir + 'nl_all', 'r')['markov_chain_0']\n",
    "x_ncols, y_ncols = len(x_names), len(y_names)\n",
    "nrows, data = mchain['nlines'][0], mchain['data']\n",
    "X, Y = np.zeros((x_ncols, nrows)), np.zeros((y_ncols, nrows))\n",
    "for i in range(x_ncols):\n",
    "    X[i] = data[x_names[i]]\n",
    "for i in range(y_ncols):\n",
    "    Y[i] = data[y_names[i]]\n",
    "X, Y = X.T, Y.T\n",
    "\n",
    "scaler_X = MinMaxScaler(feature_range=(0, 1))\n",
    "scaler_Y = MinMaxScaler(feature_range=(0, 1))\n",
    "\n",
    "x = scaler_X.fit_transform(X)\n",
    "\n",
    "# Mask and scale only non-zero values in Y\n",
    "nz = Y != 0\n",
    "y = np.copy(Y)  # Copy Y to keep the structure with zeros intact\n",
    "y[nz] = scaler_Y.fit_transform(Y[nz].reshape(-1, 1)).flatten()\n",
    "\n",
    "x_tr, x_ts, y_tr, y_ts = train_test_split(x, y, test_size=0.2, random_state=42)\n",
    "x_ts, x_vl, y_ts, y_vl = train_test_split(x_ts, y_ts, test_size=0.01, random_state=42)\n",
    "\n",
    "tuner_dir = 'trials'\n",
    "\n",
    "if os.path.exists(tuner_dir):\n",
    "    shutil.rmtree(tuner_dir)"
   ]
  },
  {
   "cell_type": "code",
   "execution_count": 12,
   "metadata": {},
   "outputs": [
    {
     "data": {
      "text/html": [
       "<pre style=\"white-space:pre;overflow-x:auto;line-height:normal;font-family:Menlo,'DejaVu Sans Mono',consolas,'Courier New',monospace\"><span style=\"font-weight: bold\">Model: \"sequential_2\"</span>\n",
       "</pre>\n"
      ],
      "text/plain": [
       "\u001b[1mModel: \"sequential_2\"\u001b[0m\n"
      ]
     },
     "metadata": {},
     "output_type": "display_data"
    },
    {
     "data": {
      "text/html": [
       "<pre style=\"white-space:pre;overflow-x:auto;line-height:normal;font-family:Menlo,'DejaVu Sans Mono',consolas,'Courier New',monospace\">┏━━━━━━━━━━━━━━━━━━━━━━━━━━━━━━━━━┳━━━━━━━━━━━━━━━━━━━━━━━━┳━━━━━━━━━━━━━━━┓\n",
       "┃<span style=\"font-weight: bold\"> Layer (type)                    </span>┃<span style=\"font-weight: bold\"> Output Shape           </span>┃<span style=\"font-weight: bold\">       Param # </span>┃\n",
       "┡━━━━━━━━━━━━━━━━━━━━━━━━━━━━━━━━━╇━━━━━━━━━━━━━━━━━━━━━━━━╇━━━━━━━━━━━━━━━┩\n",
       "│ dense_8 (<span style=\"color: #0087ff; text-decoration-color: #0087ff\">Dense</span>)                 │ (<span style=\"color: #00d7ff; text-decoration-color: #00d7ff\">None</span>, <span style=\"color: #00af00; text-decoration-color: #00af00\">320</span>)            │         <span style=\"color: #00af00; text-decoration-color: #00af00\">3,200</span> │\n",
       "├─────────────────────────────────┼────────────────────────┼───────────────┤\n",
       "│ dense_9 (<span style=\"color: #0087ff; text-decoration-color: #0087ff\">Dense</span>)                 │ (<span style=\"color: #00d7ff; text-decoration-color: #00d7ff\">None</span>, <span style=\"color: #00af00; text-decoration-color: #00af00\">512</span>)            │       <span style=\"color: #00af00; text-decoration-color: #00af00\">164,352</span> │\n",
       "├─────────────────────────────────┼────────────────────────┼───────────────┤\n",
       "│ dense_10 (<span style=\"color: #0087ff; text-decoration-color: #0087ff\">Dense</span>)                │ (<span style=\"color: #00d7ff; text-decoration-color: #00d7ff\">None</span>, <span style=\"color: #00af00; text-decoration-color: #00af00\">224</span>)            │       <span style=\"color: #00af00; text-decoration-color: #00af00\">114,912</span> │\n",
       "├─────────────────────────────────┼────────────────────────┼───────────────┤\n",
       "│ dense_11 (<span style=\"color: #0087ff; text-decoration-color: #0087ff\">Dense</span>)                │ (<span style=\"color: #00d7ff; text-decoration-color: #00d7ff\">None</span>, <span style=\"color: #00af00; text-decoration-color: #00af00\">100</span>)            │        <span style=\"color: #00af00; text-decoration-color: #00af00\">22,500</span> │\n",
       "└─────────────────────────────────┴────────────────────────┴───────────────┘\n",
       "</pre>\n"
      ],
      "text/plain": [
       "┏━━━━━━━━━━━━━━━━━━━━━━━━━━━━━━━━━┳━━━━━━━━━━━━━━━━━━━━━━━━┳━━━━━━━━━━━━━━━┓\n",
       "┃\u001b[1m \u001b[0m\u001b[1mLayer (type)                   \u001b[0m\u001b[1m \u001b[0m┃\u001b[1m \u001b[0m\u001b[1mOutput Shape          \u001b[0m\u001b[1m \u001b[0m┃\u001b[1m \u001b[0m\u001b[1m      Param #\u001b[0m\u001b[1m \u001b[0m┃\n",
       "┡━━━━━━━━━━━━━━━━━━━━━━━━━━━━━━━━━╇━━━━━━━━━━━━━━━━━━━━━━━━╇━━━━━━━━━━━━━━━┩\n",
       "│ dense_8 (\u001b[38;5;33mDense\u001b[0m)                 │ (\u001b[38;5;45mNone\u001b[0m, \u001b[38;5;34m320\u001b[0m)            │         \u001b[38;5;34m3,200\u001b[0m │\n",
       "├─────────────────────────────────┼────────────────────────┼───────────────┤\n",
       "│ dense_9 (\u001b[38;5;33mDense\u001b[0m)                 │ (\u001b[38;5;45mNone\u001b[0m, \u001b[38;5;34m512\u001b[0m)            │       \u001b[38;5;34m164,352\u001b[0m │\n",
       "├─────────────────────────────────┼────────────────────────┼───────────────┤\n",
       "│ dense_10 (\u001b[38;5;33mDense\u001b[0m)                │ (\u001b[38;5;45mNone\u001b[0m, \u001b[38;5;34m224\u001b[0m)            │       \u001b[38;5;34m114,912\u001b[0m │\n",
       "├─────────────────────────────────┼────────────────────────┼───────────────┤\n",
       "│ dense_11 (\u001b[38;5;33mDense\u001b[0m)                │ (\u001b[38;5;45mNone\u001b[0m, \u001b[38;5;34m100\u001b[0m)            │        \u001b[38;5;34m22,500\u001b[0m │\n",
       "└─────────────────────────────────┴────────────────────────┴───────────────┘\n"
      ]
     },
     "metadata": {},
     "output_type": "display_data"
    },
    {
     "data": {
      "text/html": [
       "<pre style=\"white-space:pre;overflow-x:auto;line-height:normal;font-family:Menlo,'DejaVu Sans Mono',consolas,'Courier New',monospace\"><span style=\"font-weight: bold\"> Total params: </span><span style=\"color: #00af00; text-decoration-color: #00af00\">304,964</span> (1.16 MB)\n",
       "</pre>\n"
      ],
      "text/plain": [
       "\u001b[1m Total params: \u001b[0m\u001b[38;5;34m304,964\u001b[0m (1.16 MB)\n"
      ]
     },
     "metadata": {},
     "output_type": "display_data"
    },
    {
     "data": {
      "text/html": [
       "<pre style=\"white-space:pre;overflow-x:auto;line-height:normal;font-family:Menlo,'DejaVu Sans Mono',consolas,'Courier New',monospace\"><span style=\"font-weight: bold\"> Trainable params: </span><span style=\"color: #00af00; text-decoration-color: #00af00\">304,964</span> (1.16 MB)\n",
       "</pre>\n"
      ],
      "text/plain": [
       "\u001b[1m Trainable params: \u001b[0m\u001b[38;5;34m304,964\u001b[0m (1.16 MB)\n"
      ]
     },
     "metadata": {},
     "output_type": "display_data"
    },
    {
     "data": {
      "text/html": [
       "<pre style=\"white-space:pre;overflow-x:auto;line-height:normal;font-family:Menlo,'DejaVu Sans Mono',consolas,'Courier New',monospace\"><span style=\"font-weight: bold\"> Non-trainable params: </span><span style=\"color: #00af00; text-decoration-color: #00af00\">0</span> (0.00 B)\n",
       "</pre>\n"
      ],
      "text/plain": [
       "\u001b[1m Non-trainable params: \u001b[0m\u001b[38;5;34m0\u001b[0m (0.00 B)\n"
      ]
     },
     "metadata": {},
     "output_type": "display_data"
    }
   ],
   "source": [
    "# Load model from file\n",
    "#model = tf.keras.models.load_model(\"../../models/model_nl.keras\")\n",
    "\n",
    "model = tf.keras.models.Sequential([\n",
    "    layers.Dense(320, activation='relu', input_shape=(x_ncols,)),\n",
    "    layers.Dense(512, activation='relu'),\n",
    "    layers.Dense(224, activation='relu'),\n",
    "    layers.Dense(y_ncols, activation='linear')\n",
    "])\n",
    "\n",
    "model.compile(optimizer='adam', loss='mse', metrics=['mae'])\n",
    "\n",
    "model.summary()"
   ]
  },
  {
   "cell_type": "code",
   "execution_count": 13,
   "metadata": {},
   "outputs": [],
   "source": [
    "batch_size = 128\n",
    "num_epochs = 1000\n",
    "\n",
    "# Set up a callback to stop early if given criteria is satisfied\n",
    "stop_early = tf.keras.callbacks.EarlyStopping(\n",
    "    monitor='val_loss', \n",
    "    min_delta=1.0e-5, \n",
    "    patience=10\n",
    ")\n",
    "\n",
    "# Setup checkpointing\n",
    "ckpt_path = \"../../checkpoints/mvsr_nl.keras\"\n",
    "ckpt_dir = os.path.dirname(ckpt_path)\n",
    "\n",
    "# Set up another callback that saves the model's weights\n",
    "save_weights = tf.keras.callbacks.ModelCheckpoint(filepath=ckpt_path, verbose=0)"
   ]
  },
  {
   "cell_type": "code",
   "execution_count": 14,
   "metadata": {},
   "outputs": [
    {
     "name": "stdout",
     "output_type": "stream",
     "text": [
      "Epoch 1/1000\n"
     ]
    },
    {
     "name": "stderr",
     "output_type": "stream",
     "text": [
      "2024-10-29 18:39:07.952585: I external/local_xla/xla/stream_executor/cuda/cuda_asm_compiler.cc:393] ptxas warning : Registers are spilled to local memory in function 'gemm_fusion_dot_165', 60 bytes spill stores, 60 bytes spill loads\n",
      "\n",
      "2024-10-29 18:39:07.954949: I external/local_xla/xla/stream_executor/cuda/cuda_asm_compiler.cc:393] ptxas warning : Registers are spilled to local memory in function 'gemm_fusion_dot_165', 320 bytes spill stores, 320 bytes spill loads\n",
      "\n",
      "2024-10-29 18:39:08.427769: I external/local_xla/xla/stream_executor/cuda/cuda_asm_compiler.cc:393] ptxas warning : Registers are spilled to local memory in function 'gemm_fusion_dot_179', 340 bytes spill stores, 292 bytes spill loads\n",
      "\n",
      "2024-10-29 18:39:09.632241: I external/local_xla/xla/stream_executor/cuda/cuda_asm_compiler.cc:393] ptxas warning : Registers are spilled to local memory in function 'gemm_fusion_dot_380', 20 bytes spill stores, 20 bytes spill loads\n",
      "\n",
      "2024-10-29 18:39:09.666521: I external/local_xla/xla/stream_executor/cuda/cuda_asm_compiler.cc:393] ptxas warning : Registers are spilled to local memory in function 'gemm_fusion_dot_179', 204 bytes spill stores, 204 bytes spill loads\n",
      "\n",
      "2024-10-29 18:39:10.034085: I external/local_xla/xla/stream_executor/cuda/cuda_asm_compiler.cc:393] ptxas warning : Registers are spilled to local memory in function 'gemm_fusion_dot_382', 236 bytes spill stores, 236 bytes spill loads\n",
      "\n"
     ]
    },
    {
     "name": "stdout",
     "output_type": "stream",
     "text": [
      "67/67 - 14s - 206ms/step - loss: 0.0053 - mae: 0.0428 - val_loss: 0.0012 - val_mae: 0.0207\n",
      "Epoch 2/1000\n",
      "67/67 - 0s - 2ms/step - loss: 8.8551e-04 - mae: 0.0173 - val_loss: 7.2559e-04 - val_mae: 0.0144\n",
      "Epoch 3/1000\n",
      "67/67 - 0s - 2ms/step - loss: 6.3220e-04 - mae: 0.0130 - val_loss: 5.7278e-04 - val_mae: 0.0123\n",
      "Epoch 4/1000\n",
      "67/67 - 0s - 2ms/step - loss: 4.9358e-04 - mae: 0.0113 - val_loss: 4.5204e-04 - val_mae: 0.0107\n",
      "Epoch 5/1000\n",
      "67/67 - 0s - 2ms/step - loss: 3.9450e-04 - mae: 0.0100 - val_loss: 3.7646e-04 - val_mae: 0.0098\n",
      "Epoch 6/1000\n",
      "67/67 - 0s - 2ms/step - loss: 3.4157e-04 - mae: 0.0091 - val_loss: 3.4254e-04 - val_mae: 0.0088\n",
      "Epoch 7/1000\n",
      "67/67 - 0s - 2ms/step - loss: 3.0714e-04 - mae: 0.0084 - val_loss: 3.0064e-04 - val_mae: 0.0082\n",
      "Epoch 8/1000\n",
      "67/67 - 0s - 2ms/step - loss: 2.7551e-04 - mae: 0.0078 - val_loss: 2.7362e-04 - val_mae: 0.0080\n",
      "Epoch 9/1000\n",
      "67/67 - 0s - 2ms/step - loss: 2.5072e-04 - mae: 0.0074 - val_loss: 2.4728e-04 - val_mae: 0.0072\n",
      "Epoch 10/1000\n",
      "67/67 - 0s - 2ms/step - loss: 2.2929e-04 - mae: 0.0070 - val_loss: 2.4746e-04 - val_mae: 0.0071\n",
      "Epoch 11/1000\n",
      "67/67 - 0s - 2ms/step - loss: 2.1535e-04 - mae: 0.0068 - val_loss: 2.1865e-04 - val_mae: 0.0068\n",
      "Epoch 12/1000\n",
      "67/67 - 0s - 3ms/step - loss: 2.0323e-04 - mae: 0.0065 - val_loss: 2.0488e-04 - val_mae: 0.0063\n",
      "Epoch 13/1000\n",
      "67/67 - 0s - 3ms/step - loss: 1.9009e-04 - mae: 0.0062 - val_loss: 2.0265e-04 - val_mae: 0.0065\n",
      "Epoch 14/1000\n",
      "67/67 - 0s - 3ms/step - loss: 1.8860e-04 - mae: 0.0062 - val_loss: 1.9080e-04 - val_mae: 0.0062\n",
      "Epoch 15/1000\n",
      "67/67 - 0s - 3ms/step - loss: 1.7933e-04 - mae: 0.0060 - val_loss: 1.8264e-04 - val_mae: 0.0061\n",
      "Epoch 16/1000\n",
      "67/67 - 0s - 2ms/step - loss: 1.6838e-04 - mae: 0.0057 - val_loss: 1.7297e-04 - val_mae: 0.0059\n",
      "Epoch 17/1000\n",
      "67/67 - 0s - 2ms/step - loss: 1.6243e-04 - mae: 0.0057 - val_loss: 1.6969e-04 - val_mae: 0.0057\n",
      "Epoch 18/1000\n",
      "67/67 - 0s - 2ms/step - loss: 1.5804e-04 - mae: 0.0055 - val_loss: 1.7245e-04 - val_mae: 0.0058\n",
      "Epoch 19/1000\n",
      "67/67 - 0s - 2ms/step - loss: 1.5251e-04 - mae: 0.0055 - val_loss: 1.7625e-04 - val_mae: 0.0058\n",
      "Epoch 20/1000\n",
      "67/67 - 0s - 1ms/step - loss: 1.4726e-04 - mae: 0.0053 - val_loss: 1.5775e-04 - val_mae: 0.0053\n",
      "Epoch 21/1000\n",
      "67/67 - 0s - 2ms/step - loss: 1.3975e-04 - mae: 0.0051 - val_loss: 1.5437e-04 - val_mae: 0.0054\n",
      "Epoch 22/1000\n",
      "67/67 - 0s - 2ms/step - loss: 1.4223e-04 - mae: 0.0053 - val_loss: 1.4920e-04 - val_mae: 0.0055\n",
      "Epoch 23/1000\n",
      "67/67 - 0s - 2ms/step - loss: 1.3464e-04 - mae: 0.0051 - val_loss: 1.5369e-04 - val_mae: 0.0062\n",
      "Epoch 24/1000\n",
      "67/67 - 0s - 1ms/step - loss: 1.3337e-04 - mae: 0.0051 - val_loss: 1.3610e-04 - val_mae: 0.0050\n",
      "Epoch 25/1000\n",
      "67/67 - 0s - 1ms/step - loss: 1.2698e-04 - mae: 0.0049 - val_loss: 1.3456e-04 - val_mae: 0.0052\n",
      "Epoch 26/1000\n",
      "67/67 - 0s - 1ms/step - loss: 1.2326e-04 - mae: 0.0048 - val_loss: 1.3561e-04 - val_mae: 0.0049\n",
      "Epoch 27/1000\n",
      "67/67 - 0s - 2ms/step - loss: 1.2078e-04 - mae: 0.0048 - val_loss: 1.3370e-04 - val_mae: 0.0057\n",
      "Epoch 28/1000\n",
      "67/67 - 0s - 2ms/step - loss: 1.2018e-04 - mae: 0.0049 - val_loss: 1.2374e-04 - val_mae: 0.0048\n",
      "Epoch 29/1000\n",
      "67/67 - 0s - 2ms/step - loss: 1.1766e-04 - mae: 0.0048 - val_loss: 1.2887e-04 - val_mae: 0.0049\n",
      "Epoch 30/1000\n",
      "67/67 - 0s - 3ms/step - loss: 1.1802e-04 - mae: 0.0048 - val_loss: 1.2429e-04 - val_mae: 0.0049\n",
      "Epoch 31/1000\n",
      "67/67 - 0s - 3ms/step - loss: 1.1289e-04 - mae: 0.0047 - val_loss: 1.1789e-04 - val_mae: 0.0047\n",
      "Epoch 32/1000\n",
      "67/67 - 0s - 3ms/step - loss: 1.0923e-04 - mae: 0.0045 - val_loss: 1.1640e-04 - val_mae: 0.0049\n",
      "Epoch 33/1000\n",
      "67/67 - 0s - 3ms/step - loss: 1.0731e-04 - mae: 0.0045 - val_loss: 1.1139e-04 - val_mae: 0.0045\n",
      "Epoch 34/1000\n",
      "67/67 - 0s - 3ms/step - loss: 1.0468e-04 - mae: 0.0044 - val_loss: 1.0883e-04 - val_mae: 0.0044\n",
      "Epoch 35/1000\n",
      "67/67 - 0s - 3ms/step - loss: 1.0475e-04 - mae: 0.0045 - val_loss: 1.1628e-04 - val_mae: 0.0048\n",
      "Epoch 36/1000\n",
      "67/67 - 0s - 3ms/step - loss: 1.0564e-04 - mae: 0.0045 - val_loss: 1.2091e-04 - val_mae: 0.0057\n",
      "Epoch 37/1000\n",
      "67/67 - 0s - 2ms/step - loss: 9.9300e-05 - mae: 0.0044 - val_loss: 1.1065e-04 - val_mae: 0.0046\n",
      "Epoch 38/1000\n",
      "67/67 - 0s - 2ms/step - loss: 9.8715e-05 - mae: 0.0044 - val_loss: 1.0448e-04 - val_mae: 0.0041\n",
      "Epoch 39/1000\n",
      "67/67 - 0s - 2ms/step - loss: 9.7983e-05 - mae: 0.0044 - val_loss: 1.0849e-04 - val_mae: 0.0044\n",
      "Epoch 40/1000\n",
      "67/67 - 0s - 2ms/step - loss: 9.7685e-05 - mae: 0.0043 - val_loss: 1.2179e-04 - val_mae: 0.0049\n",
      "Epoch 41/1000\n",
      "67/67 - 0s - 3ms/step - loss: 9.7384e-05 - mae: 0.0044 - val_loss: 1.1858e-04 - val_mae: 0.0050\n",
      "Epoch 42/1000\n",
      "67/67 - 0s - 3ms/step - loss: 9.4443e-05 - mae: 0.0044 - val_loss: 9.9190e-05 - val_mae: 0.0043\n",
      "Epoch 43/1000\n",
      "67/67 - 0s - 3ms/step - loss: 8.9864e-05 - mae: 0.0041 - val_loss: 9.7801e-05 - val_mae: 0.0044\n",
      "Epoch 44/1000\n",
      "67/67 - 0s - 2ms/step - loss: 9.4581e-05 - mae: 0.0044 - val_loss: 1.0888e-04 - val_mae: 0.0045\n",
      "Epoch 45/1000\n",
      "67/67 - 0s - 2ms/step - loss: 9.0347e-05 - mae: 0.0042 - val_loss: 9.2932e-05 - val_mae: 0.0040\n",
      "Epoch 46/1000\n",
      "67/67 - 0s - 3ms/step - loss: 8.6322e-05 - mae: 0.0040 - val_loss: 1.0395e-04 - val_mae: 0.0046\n",
      "Epoch 47/1000\n",
      "67/67 - 0s - 2ms/step - loss: 8.7974e-05 - mae: 0.0041 - val_loss: 9.3995e-05 - val_mae: 0.0040\n",
      "Epoch 48/1000\n",
      "67/67 - 0s - 2ms/step - loss: 8.3401e-05 - mae: 0.0039 - val_loss: 8.9448e-05 - val_mae: 0.0041\n",
      "Epoch 49/1000\n",
      "67/67 - 0s - 3ms/step - loss: 8.2601e-05 - mae: 0.0039 - val_loss: 9.7826e-05 - val_mae: 0.0041\n",
      "Epoch 50/1000\n",
      "67/67 - 0s - 3ms/step - loss: 8.6661e-05 - mae: 0.0041 - val_loss: 1.0528e-04 - val_mae: 0.0052\n",
      "Epoch 51/1000\n",
      "67/67 - 0s - 2ms/step - loss: 8.8435e-05 - mae: 0.0042 - val_loss: 8.8780e-05 - val_mae: 0.0044\n",
      "Epoch 52/1000\n",
      "67/67 - 0s - 2ms/step - loss: 7.8580e-05 - mae: 0.0038 - val_loss: 9.5556e-05 - val_mae: 0.0048\n",
      "Epoch 53/1000\n",
      "67/67 - 0s - 3ms/step - loss: 8.0135e-05 - mae: 0.0039 - val_loss: 9.6167e-05 - val_mae: 0.0040\n",
      "Epoch 54/1000\n",
      "67/67 - 0s - 3ms/step - loss: 8.1385e-05 - mae: 0.0041 - val_loss: 9.1274e-05 - val_mae: 0.0048\n",
      "Epoch 55/1000\n",
      "67/67 - 0s - 2ms/step - loss: 7.9944e-05 - mae: 0.0040 - val_loss: 1.0535e-04 - val_mae: 0.0040\n",
      "Epoch 56/1000\n",
      "67/67 - 0s - 2ms/step - loss: 7.8363e-05 - mae: 0.0038 - val_loss: 9.3152e-05 - val_mae: 0.0051\n",
      "Epoch 57/1000\n",
      "67/67 - 0s - 3ms/step - loss: 7.7434e-05 - mae: 0.0039 - val_loss: 8.0837e-05 - val_mae: 0.0037\n",
      "Epoch 58/1000\n",
      "67/67 - 0s - 3ms/step - loss: 7.3268e-05 - mae: 0.0036 - val_loss: 8.1748e-05 - val_mae: 0.0039\n",
      "Epoch 59/1000\n",
      "67/67 - 0s - 3ms/step - loss: 7.6318e-05 - mae: 0.0038 - val_loss: 8.9079e-05 - val_mae: 0.0037\n",
      "Epoch 60/1000\n",
      "67/67 - 0s - 3ms/step - loss: 7.8879e-05 - mae: 0.0040 - val_loss: 8.3729e-05 - val_mae: 0.0041\n",
      "Epoch 61/1000\n",
      "67/67 - 0s - 3ms/step - loss: 7.6679e-05 - mae: 0.0040 - val_loss: 7.9753e-05 - val_mae: 0.0036\n"
     ]
    }
   ],
   "source": [
    "training = model.fit(x=x_tr, y=y_tr, batch_size=batch_size, validation_data=(x_ts, y_ts), \\\n",
    "                    epochs=num_epochs, callbacks=[stop_early], verbose=2)"
   ]
  },
  {
   "cell_type": "code",
   "execution_count": 15,
   "metadata": {},
   "outputs": [
    {
     "data": {
      "image/png": "[encoded data removed]",
      "text/plain": [
       "<Figure size 640x480 with 1 Axes>"
      ]
     },
     "metadata": {},
     "output_type": "display_data"
    }
   ],
   "source": [
    "plt.semilogy(training.history['loss'], ls='--', color='red', label='train')\n",
    "plt.semilogy(training.history['val_loss'], color='orange', label='test')\n",
    "plt.grid()\n",
    "plt.ylabel(\"Loss\")\n",
    "plt.xlabel(\"Epoch\")\n",
    "plt.title(\"Training History\")\n",
    "plt.legend()\n",
    "plt.show()"
   ]
  },
  {
   "cell_type": "code",
   "execution_count": 16,
   "metadata": {},
   "outputs": [
    {
     "name": "stdout",
     "output_type": "stream",
     "text": [
      "\u001b[1m1/1\u001b[0m \u001b[32m━━━━━━━━━━━━━━━━━━━━\u001b[0m\u001b[37m\u001b[0m \u001b[1m3s\u001b[0m 3s/step\n"
     ]
    }
   ],
   "source": [
    "y_pr = model.predict(x_vl)"
   ]
  },
  {
   "cell_type": "code",
   "execution_count": 17,
   "metadata": {},
   "outputs": [
    {
     "name": "stdout",
     "output_type": "stream",
     "text": [
      "[ 8.2858765e-01  6.6759789e-01  5.5999881e-01  4.9604070e-01\n",
      "  4.3930858e-01  3.9875999e-01  3.7429366e-01  3.4607387e-01\n",
      "  3.3209878e-01  3.0819625e-01  2.9151493e-01  2.8589714e-01\n",
      "  2.7513701e-01  2.7470508e-01  2.5876501e-01  2.5107199e-01\n",
      "  2.4663700e-01  2.5031018e-01  2.4307577e-01  2.4364153e-01\n",
      "  2.2887301e-01  2.3420097e-01  2.3672260e-01  2.3856966e-01\n",
      "  2.3764890e-01  2.3865283e-01  2.3961778e-01  2.4402438e-01\n",
      "  2.4328871e-01  2.3535725e-01  2.3858543e-01  2.4208620e-01\n",
      "  2.4195825e-01  2.4880600e-01  2.4486071e-01  2.4887900e-01\n",
      "  2.4864121e-01  2.5907475e-01  2.5537366e-01  2.5859568e-01\n",
      "  2.5224465e-01  2.6047263e-01  2.7039230e-01  2.6873159e-01\n",
      "  2.6376387e-01  2.7068728e-01  2.7550122e-01  2.7751154e-01\n",
      "  2.7372324e-01  2.7888066e-01  2.7594817e-01  2.7866521e-01\n",
      "  2.8663820e-01  2.8969049e-01  2.8675717e-01  2.7764785e-01\n",
      "  2.8067186e-01  2.7915335e-01  2.8203511e-01  2.9016435e-01\n",
      "  2.7679208e-01  2.8026131e-01  2.8303126e-01  2.7918935e-01\n",
      "  2.8086221e-01  2.8840125e-01  2.7727196e-01  2.9345068e-01\n",
      "  2.9034528e-01  2.6944530e-01  2.6511705e-01  2.6644161e-01\n",
      "  2.6955464e-01  2.5998601e-01  2.6315761e-01  2.4266230e-01\n",
      "  2.5754461e-01  2.7975932e-01  2.7804193e-01  2.1424280e-01\n",
      "  1.2800547e-01  6.0613491e-02  3.6441080e-02  9.9570397e-04\n",
      " -2.0247174e-02 -1.0561746e-02 -3.5673892e-03  9.0507092e-05\n",
      "  6.1871605e-03  8.4346225e-03  4.2625032e-03 -3.4547960e-03\n",
      "  1.6427077e-03  3.1970674e-04 -1.4007292e-03 -7.5070933e-04\n",
      " -3.4863688e-03 -8.7741483e-04 -3.8061440e-03  1.0327667e-03]\n",
      "[ 8.2858765e-01  6.6759789e-01  5.5999881e-01  4.9604070e-01\n",
      "  4.3930858e-01  3.9875999e-01  3.7429366e-01  3.4607387e-01\n",
      "  3.3209878e-01  3.0819625e-01  2.9151493e-01  2.8589714e-01\n",
      "  2.7513701e-01  2.7470508e-01  2.5876501e-01  2.5107199e-01\n",
      "  2.4663700e-01  2.5031018e-01  2.4307577e-01  2.4364153e-01\n",
      "  2.2887301e-01  2.3420097e-01  2.3672260e-01  2.3856966e-01\n",
      "  2.3764890e-01  2.3865283e-01  2.3961778e-01  2.4402438e-01\n",
      "  2.4328871e-01  2.3535725e-01  2.3858543e-01  2.4208620e-01\n",
      "  2.4195825e-01  2.4880600e-01  2.4486071e-01  2.4887900e-01\n",
      "  2.4864121e-01  2.5907475e-01  2.5537366e-01  2.5859568e-01\n",
      "  2.5224465e-01  2.6047263e-01  2.7039230e-01  2.6873159e-01\n",
      "  2.6376387e-01  2.7068728e-01  2.7550122e-01  2.7751154e-01\n",
      "  2.7372324e-01  2.7888066e-01  2.7594817e-01  2.7866521e-01\n",
      "  2.8663820e-01  2.8969049e-01  2.8675717e-01  2.7764785e-01\n",
      "  2.8067186e-01  2.7915335e-01  2.8203511e-01  2.9016435e-01\n",
      "  2.7679208e-01  2.8026131e-01  2.8303126e-01  2.7918935e-01\n",
      "  2.8086221e-01  2.8840125e-01  2.7727196e-01  2.9345068e-01\n",
      "  2.9034528e-01  2.6944530e-01  2.6511705e-01  2.6644161e-01\n",
      "  2.6955464e-01  2.5998601e-01  2.6315761e-01  2.4266230e-01\n",
      "  2.5754461e-01  2.7975932e-01  2.7804193e-01  2.1424280e-01\n",
      "  1.2800547e-01  6.0613491e-02  3.6441080e-02  9.9570397e-04\n",
      " -2.0247174e-02 -1.0561746e-02 -3.5673892e-03  9.0507092e-05\n",
      "  6.1871605e-03  8.4346225e-03  4.2625032e-03 -3.4547960e-03\n",
      "  1.6427077e-03  3.1970674e-04 -1.4007292e-03 -7.5070933e-04\n",
      " -3.4863688e-03 -8.7741483e-04 -3.8061440e-03  1.0327667e-03]\n"
     ]
    }
   ],
   "source": [
    "def post_process_radius(y_pred_radius):\n",
    "    for i in range(len(y_pred_radius)):\n",
    "        # Get the current predicted radius vector for the i-th sample\n",
    "        radius_vector = y_pred_radius[i]\n",
    "\n",
    "        # Step 1: Find the last meaningful non-zero value (smallest non-zero)\n",
    "        non_zero_indices = np.nonzero(radius_vector)[0]\n",
    "        if len(non_zero_indices) == 0:\n",
    "            continue  # Skip if all values are zero\n",
    "\n",
    "        # Find the last meaningful non-zero value (smallest non-zero value)\n",
    "        last_nonzero_idx = non_zero_indices[-1]  # Index of the last non-zero value\n",
    "\n",
    "        # Step 2: Set all values after the last non-zero to zero\n",
    "        radius_vector[last_nonzero_idx + 1:] = 0\n",
    "\n",
    "        # Step 3: Linearly interpolate any intermediate zeros between two non-zero values\n",
    "        zero_indices = np.where((radius_vector == 0) & (np.arange(len(radius_vector)) < last_nonzero_idx))[0]\n",
    "        \n",
    "        for zero_idx in zero_indices:\n",
    "            # Find the nearest non-zero values on the left and right of the zero\n",
    "            left_nonzero_idx = zero_idx - 1\n",
    "            while left_nonzero_idx >= 0 and radius_vector[left_nonzero_idx] == 0:\n",
    "                left_nonzero_idx -= 1\n",
    "            \n",
    "            right_nonzero_idx = zero_idx + 1\n",
    "            while right_nonzero_idx < len(radius_vector) and radius_vector[right_nonzero_idx] == 0:\n",
    "                right_nonzero_idx += 1\n",
    "            \n",
    "            # Perform linear interpolation if we have valid left and right non-zero values\n",
    "            if left_nonzero_idx >= 0 and right_nonzero_idx < len(radius_vector):\n",
    "                left_value = radius_vector[left_nonzero_idx]\n",
    "                right_value = radius_vector[right_nonzero_idx]\n",
    "                \n",
    "                # Linear interpolation for the zero at zero_idx\n",
    "                radius_vector[zero_idx] = left_value + (right_value - left_value) * (zero_idx - left_nonzero_idx) / (right_nonzero_idx - left_nonzero_idx)\n",
    "\n",
    "        # Update the radius vector in the prediction array\n",
    "        y_pred_radius[i] = radius_vector\n",
    "\n",
    "    return y_pred_radius\n",
    "\n",
    "print(y_pr[3])\n",
    "y_pr2 = post_process_radius(y_pr)\n",
    "print(y_pr2[3])"
   ]
  },
  {
   "cell_type": "code",
   "execution_count": null,
   "metadata": {},
   "outputs": [],
   "source": []
  }
 ],
 "metadata": {
  "kernelspec": {
   "display_name": "tfg",
   "language": "python",
   "name": "python3"
  },
  "language_info": {
   "codemirror_mode": {
    "name": "ipython",
    "version": 3
   },
   "file_extension": ".py",
   "mimetype": "text/x-python",
   "name": "python",
   "nbconvert_exporter": "python",
   "pygments_lexer": "ipython3",
   "version": "3.12.7"
  }
 },
 "nbformat": 4,
 "nbformat_minor": 2
}
